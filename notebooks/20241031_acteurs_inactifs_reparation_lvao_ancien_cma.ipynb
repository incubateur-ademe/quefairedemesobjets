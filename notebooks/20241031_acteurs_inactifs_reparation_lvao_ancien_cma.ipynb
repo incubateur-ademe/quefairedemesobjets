{
 "cells": [
  {
   "cell_type": "markdown",
   "id": "b86432b3",
   "metadata": {},
   "source": [
    "# Rendre inactifs 6264 acteurs reparation LVAO (ancien CMA)\n",
    "\n",
    "[Ticket](https://www.notion.so/accelerateur-transition-ecologique-ademe/Supprimer-les-artisans-Ferm-s-de-la-vieille-source-CMA-non-r-paracteurs-12e6523d57d78045a70ed85ad8a47796)\n",
    "\n",
    " - **QUOI**: modifier 6264 acteurs LVAO `_reparation_` (anciennement CMA) en changeant `statut` = `INACTIF`\n",
    " - **POURQUOI**: les entrées dans la base sont obsolètes\n",
    " - **COMMENT**:\n",
    "    - intégration avec la base SIRENE en local\n",
    "    - génération d'un export et revue manuelle\n",
    "    - génération des requettes SQL sur la base de l'export\n",
    "\n"
   ]
  },
  {
   "cell_type": "markdown",
   "id": "376f5950",
   "metadata": {},
   "source": [
    "## Paramètres"
   ]
  },
  {
   "cell_type": "code",
   "execution_count": 73,
   "id": "2524cc6e",
   "metadata": {},
   "outputs": [],
   "source": [
    "import os\n",
    "from datetime import datetime, timezone\n",
    "\n",
    "# Base de données\n",
    "DB_TEST_URL = os.environ[\"DB_TEST_URL\"]\n",
    "DB_PROD_URL = os.environ[\"DB_PROD_URL\"]\n",
    "DB_TABLE = \"qfdmo_acteur\"\n",
    "DB_TABLE_REVISION = \"qfdmo_revisionacteur\"\n",
    "DB_STATUS_FIELD = \"statut\"\n",
    "DB_STATUS_VALUE = \"INACTIF\"\n",
    "DB_COMMENT_FIELD = \"commentaires\"\n",
    "DB_COMMENT_VALUE = \"20241104_acteurs_inactifs_reparation_lvao_ancien_cma\"\n",
    "DB_ID_FIELD = \"identifiant_unique\"\n",
    "DB_TIMESTAMP_FIELD = \"modifie_le\"\n",
    "# on ne touche pas à se qui a été modifié end prod\n",
    "# depuis l'export\n",
    "DB_TIMESTAMP_SAFEGUARD = datetime.strptime(\"2024-10-29 00:00:00\", \"%Y-%m-%d %H:%M:%S\").replace(tzinfo=timezone.utc)\n",
    "\n",
    "# File system\n",
    "#DIR_CURRENT = os.path.dirname(os.path.abspath(__file__))\n",
    "#DIR_DATA = os.path.join(DIR_CURRENT, \"data\")\n",
    "\n",
    "# Export validé\n",
    "DATA_FILEPATH = \"./data/acteurs_a_desactiver.csv\"\n",
    "DATA_FILTER_KEY = \"validation\"\n",
    "# note: seule un échantillion à été validé donc on garde\n",
    "# tout sauf 1 entrée modifiée sur prod entre temps\n",
    "DATA_FILTER_EXCLUDE = \"NE PAS TOUCHER\"\n",
    "DATA_FILTER_LENGTH = 9653 # on s'attend à modifier 6264 acteurs\n",
    "DATA_STATUS_FIELD = \"statut\"\n",
    "DATA_STATUS_CURRENT = \"ACTIF\"\n",
    "\n",
    "# Les champs de la source de données SIRENE nous indiquant\n",
    "# que soit l'entreprise est en cessation (C), soit\n",
    "# l'établissement est fermé (F)\n",
    "DATA_SIREN_STATUS_FIELD = \"etatAdministratifUniteLegale\"\n",
    "DATA_SIREN_STATUS_VALUE = \"C\"\n",
    "DATA_SIRET_STATUS_FIELD = \"etatAdministratifEtablissement\"\n",
    "DATA_SIRET_STATUS_VALUE = \"F\"\n"
   ]
  },
  {
   "cell_type": "markdown",
   "id": "c584d66c",
   "metadata": {},
   "source": [
    "## Import des librairies"
   ]
  },
  {
   "cell_type": "code",
   "execution_count": 74,
   "id": "1790323e-8d84-4924-a4bc-fc74d186e42f",
   "metadata": {},
   "outputs": [],
   "source": [
    "import pandas as pd\n",
    "import numpy as np\n",
    "from sqlalchemy import create_engine\n",
    "from sqlalchemy.engine.url import make_url\n",
    "from rich import print\n",
    "from rich.progress import track"
   ]
  },
  {
   "cell_type": "markdown",
   "id": "b42d285d",
   "metadata": {},
   "source": [
    "## Valider connection à la base de données"
   ]
  },
  {
   "cell_type": "code",
   "execution_count": 75,
   "id": "4819f9ab",
   "metadata": {},
   "outputs": [],
   "source": [
    "# Create and test engines\n",
    "#assert DB_TEST_URL != DB_PROD_URL, \"DB_TEST_URL et DB_PROD_URL doivent être différents\"\n",
    "db_test_engine = create_engine(DB_TEST_URL)\n",
    "db_prod_engine = create_engine(DB_PROD_URL)\n",
    "for engine in [db_test_engine, db_prod_engine]:\n",
    "    conn = engine.connect()\n",
    "    conn.execute(f\"SELECT * FROM {DB_TABLE} LIMIT 1\")\n",
    "    conn.close()"
   ]
  },
  {
   "cell_type": "markdown",
   "id": "0bf6cc64",
   "metadata": {},
   "source": [
    "## Lecture et validation de la data locale"
   ]
  },
  {
   "cell_type": "code",
   "execution_count": 76,
   "id": "61913a44",
   "metadata": {},
   "outputs": [
    {
     "data": {
      "text/html": [
       "<div>\n",
       "<style scoped>\n",
       "    .dataframe tbody tr th:only-of-type {\n",
       "        vertical-align: middle;\n",
       "    }\n",
       "\n",
       "    .dataframe tbody tr th {\n",
       "        vertical-align: top;\n",
       "    }\n",
       "\n",
       "    .dataframe thead th {\n",
       "        text-align: right;\n",
       "    }\n",
       "</style>\n",
       "<table border=\"1\" class=\"dataframe\">\n",
       "  <thead>\n",
       "    <tr style=\"text-align: right;\">\n",
       "      <th></th>\n",
       "      <th>validation</th>\n",
       "      <th>Django</th>\n",
       "      <th>sirene_unite_legale</th>\n",
       "      <th>sirene_etablissement</th>\n",
       "      <th>etatAdministratifUniteLegale</th>\n",
       "      <th>etatAdministratifEtablissement</th>\n",
       "      <th>nom</th>\n",
       "      <th>description</th>\n",
       "      <th>siret</th>\n",
       "      <th>identifiant_unique</th>\n",
       "      <th>adresse</th>\n",
       "      <th>adresse_complement</th>\n",
       "      <th>code_postal</th>\n",
       "      <th>ville</th>\n",
       "      <th>statut</th>\n",
       "    </tr>\n",
       "  </thead>\n",
       "  <tbody>\n",
       "    <tr>\n",
       "      <th>0</th>\n",
       "      <td>None</td>\n",
       "      <td>lien</td>\n",
       "      <td>lien</td>\n",
       "      <td>lien</td>\n",
       "      <td>A</td>\n",
       "      <td>F</td>\n",
       "      <td>Yannis Artisan Joaillier</td>\n",
       "      <td>None</td>\n",
       "      <td>50431909600013</td>\n",
       "      <td>yannis_artisan_joaillier_212320_reparation</td>\n",
       "      <td>18 PL NOTRE DAME</td>\n",
       "      <td>None</td>\n",
       "      <td>95300</td>\n",
       "      <td>PONTOISE</td>\n",
       "      <td>ACTIF</td>\n",
       "    </tr>\n",
       "    <tr>\n",
       "      <th>1</th>\n",
       "      <td>None</td>\n",
       "      <td>lien</td>\n",
       "      <td>lien</td>\n",
       "      <td>lien</td>\n",
       "      <td>A</td>\n",
       "      <td>F</td>\n",
       "      <td>Dt Menuiserie</td>\n",
       "      <td>None</td>\n",
       "      <td>85292292100022</td>\n",
       "      <td>dt_menuiserie_220790_reparation_0786288840</td>\n",
       "      <td>4 RUE DES BLEUETS</td>\n",
       "      <td>None</td>\n",
       "      <td>21490</td>\n",
       "      <td>RUFFEY LES ECHIREY</td>\n",
       "      <td>ACTIF</td>\n",
       "    </tr>\n",
       "    <tr>\n",
       "      <th>2</th>\n",
       "      <td>None</td>\n",
       "      <td>lien</td>\n",
       "      <td>lien</td>\n",
       "      <td>lien</td>\n",
       "      <td>A</td>\n",
       "      <td>F</td>\n",
       "      <td>La Foret D'Emeraude</td>\n",
       "      <td>None</td>\n",
       "      <td>88135152200027</td>\n",
       "      <td>la_foret_demeraude_205284_reparation_0621698122</td>\n",
       "      <td>2 RUE MARIE DURANT</td>\n",
       "      <td>LE CONCERTO APP C102</td>\n",
       "      <td>13640</td>\n",
       "      <td>LA ROQUE-D'ANTHÉRON</td>\n",
       "      <td>ACTIF</td>\n",
       "    </tr>\n",
       "    <tr>\n",
       "      <th>3</th>\n",
       "      <td>None</td>\n",
       "      <td>lien</td>\n",
       "      <td>lien</td>\n",
       "      <td>lien</td>\n",
       "      <td>A</td>\n",
       "      <td>F</td>\n",
       "      <td>Talos Informatique</td>\n",
       "      <td>None</td>\n",
       "      <td>84055429900015</td>\n",
       "      <td>talos_informatique_39282_reparation_0685647212</td>\n",
       "      <td>30   LA PLACETTE</td>\n",
       "      <td>None</td>\n",
       "      <td>7120</td>\n",
       "      <td>CHAUZON</td>\n",
       "      <td>ACTIF</td>\n",
       "    </tr>\n",
       "    <tr>\n",
       "      <th>4</th>\n",
       "      <td>None</td>\n",
       "      <td>lien</td>\n",
       "      <td>lien</td>\n",
       "      <td>lien</td>\n",
       "      <td>A</td>\n",
       "      <td>F</td>\n",
       "      <td>L Atelier De Boo</td>\n",
       "      <td>None</td>\n",
       "      <td>44879360400043</td>\n",
       "      <td>l_atelier_de_boo_205770_reparation_0674265167</td>\n",
       "      <td>3 RUE DES COMPAGNONS</td>\n",
       "      <td>None</td>\n",
       "      <td>27100</td>\n",
       "      <td>VAL DE REUIL</td>\n",
       "      <td>ACTIF</td>\n",
       "    </tr>\n",
       "  </tbody>\n",
       "</table>\n",
       "</div>"
      ],
      "text/plain": [
       "  validation Django sirene_unite_legale sirene_etablissement  \\\n",
       "0       None   lien                lien                 lien   \n",
       "1       None   lien                lien                 lien   \n",
       "2       None   lien                lien                 lien   \n",
       "3       None   lien                lien                 lien   \n",
       "4       None   lien                lien                 lien   \n",
       "\n",
       "  etatAdministratifUniteLegale etatAdministratifEtablissement  \\\n",
       "0                            A                              F   \n",
       "1                            A                              F   \n",
       "2                            A                              F   \n",
       "3                            A                              F   \n",
       "4                            A                              F   \n",
       "\n",
       "                        nom description           siret  \\\n",
       "0  Yannis Artisan Joaillier        None  50431909600013   \n",
       "1             Dt Menuiserie        None  85292292100022   \n",
       "2       La Foret D'Emeraude        None  88135152200027   \n",
       "3        Talos Informatique        None  84055429900015   \n",
       "4          L Atelier De Boo        None  44879360400043   \n",
       "\n",
       "                                identifiant_unique               adresse  \\\n",
       "0       yannis_artisan_joaillier_212320_reparation      18 PL NOTRE DAME   \n",
       "1       dt_menuiserie_220790_reparation_0786288840     4 RUE DES BLEUETS   \n",
       "2  la_foret_demeraude_205284_reparation_0621698122    2 RUE MARIE DURANT   \n",
       "3   talos_informatique_39282_reparation_0685647212      30   LA PLACETTE   \n",
       "4    l_atelier_de_boo_205770_reparation_0674265167  3 RUE DES COMPAGNONS   \n",
       "\n",
       "     adresse_complement  code_postal                ville statut  \n",
       "0                  None        95300             PONTOISE  ACTIF  \n",
       "1                  None        21490   RUFFEY LES ECHIREY  ACTIF  \n",
       "2  LE CONCERTO APP C102        13640  LA ROQUE-D'ANTHÉRON  ACTIF  \n",
       "3                  None         7120              CHAUZON  ACTIF  \n",
       "4                  None        27100         VAL DE REUIL  ACTIF  "
      ]
     },
     "execution_count": 76,
     "metadata": {},
     "output_type": "execute_result"
    }
   ],
   "source": [
    "# The default \"df\" corresponds to our local data\n",
    "df = pd.read_csv(DATA_FILEPATH).replace({np.nan: None})\n",
    "df.head()"
   ]
  },
  {
   "cell_type": "code",
   "execution_count": 77,
   "id": "a98545c5",
   "metadata": {},
   "outputs": [
    {
     "data": {
      "text/html": [
       "<pre style=\"white-space:pre;overflow-x:auto;line-height:normal;font-family:Menlo,'DejaVu Sans Mono',consolas,'Courier New',monospace\">Nombre d'acteurs à modifier: <span style=\"color: #008080; text-decoration-color: #008080; font-weight: bold\">9653</span>\n",
       "</pre>\n"
      ],
      "text/plain": [
       "Nombre d'acteurs à modifier: \u001b[1;36m9653\u001b[0m\n"
      ]
     },
     "metadata": {},
     "output_type": "display_data"
    }
   ],
   "source": [
    "# On filtre les acteurs à modifier\n",
    "filter_validation = df[DATA_FILTER_KEY] != DATA_FILTER_EXCLUDE\n",
    "filter_siren = df[DATA_SIREN_STATUS_FIELD] == DATA_SIREN_STATUS_VALUE\n",
    "filter_siret = df[DATA_SIRET_STATUS_FIELD] == DATA_SIRET_STATUS_VALUE\n",
    "\n",
    "df = df[filter_validation & (filter_siren | filter_siret)]\n",
    "print(f\"Nombre d'acteurs à modifier: {len(df)}\")\n",
    "assert len(df) == DATA_FILTER_LENGTH, f\"On devrait avoir {DATA_FILTER_LENGTH} acteurs à modifier\""
   ]
  },
  {
   "cell_type": "code",
   "execution_count": 78,
   "id": "8bbba318",
   "metadata": {},
   "outputs": [],
   "source": [
    "# On s'assure qu'ils étaient tous actifs\n",
    "assert all(df[DATA_STATUS_FIELD] == DATA_STATUS_CURRENT), \"Tous les acteurs devraient être actifs\"\n",
    "# Qu'on avait pas de doublon sur le champ identifiant\n",
    "assert len(df) == len(df[DB_ID_FIELD].unique()), f\"Présence de doublons sur le champ {DB_ID_FIELD}\""
   ]
  },
  {
   "cell_type": "markdown",
   "id": "c7038246",
   "metadata": {},
   "source": [
    "## Logique de modification de la base"
   ]
  },
  {
   "cell_type": "code",
   "execution_count": 84,
   "id": "dd92d530",
   "metadata": {},
   "outputs": [],
   "source": [
    "def sql_acteurs_select(table_name: str, ids: list):\n",
    "    \"\"\"Construit une requête SQL pour récupérer des acteurs matchant des IDs\"\"\"\n",
    "    return f\"\"\"SELECT {DB_ID_FIELD}, {DB_TIMESTAMP_FIELD}\n",
    "            FROM {table_name}\n",
    "            WHERE {DB_ID_FIELD} IN ({', '.join([\"'\"+str(i)+\"'\" for i in ids])})\"\"\"\n",
    "\n",
    "def db_update_from_df(df: pd.DataFrame, engine):\n",
    "    \"\"\"MAJ de la DB à partir d'un DataFrame source d'acteurs\"\"\"\n",
    "    url = make_url(engine.url)\n",
    "    print(\"db_update_from_df:\")\n",
    "    print({\"hostname\": url.host,\"port\":url.port, \"database\": url.database})\n",
    "\n",
    "    # On récupère les IDs de la dataframe source\n",
    "    ids = df[DB_ID_FIELD].tolist()\n",
    "\n",
    "    # On récupère les acteurs vs. révisions existants et on s'assure du match\n",
    "    df_act = pd.read_sql(con=engine, sql=sql_acteurs_select(DB_TABLE, ids))\n",
    "    df_rev = pd.read_sql(con=engine, sql=sql_acteurs_select(DB_TABLE_REVISION, ids))\n",
    "    print({\"# acteurs\": len(df_act), \"# révisions existantes\": len(df_rev)})\n",
    "    assert len(df_act) == len(df_rev), \"Certaines révisions manquantes, à créer...\"\n",
    "\n",
    "    # On met à jour les révisions\n",
    "    print(\"MAJ des révisions: début...\")\n",
    "    count=0\n",
    "    for index, row in df_rev.iterrows():\n",
    "        sql_update = f\"\"\"\n",
    "            UPDATE {DB_TABLE_REVISION}\n",
    "            SET {DB_STATUS_FIELD} = '{DB_STATUS_VALUE}',\n",
    "                {DB_COMMENT_FIELD} = '{DB_COMMENT_VALUE}',\n",
    "                {DB_TIMESTAMP_FIELD} = NOW()\n",
    "            WHERE {DB_ID_FIELD} = '{row[DB_ID_FIELD]}'\"\"\"\n",
    "        if index==0:\n",
    "            print(sql_update)\n",
    "        engine.execute(sql_update)\n",
    "        count+=1\n",
    "        if count%500==0:\n",
    "            print(count)\n",
    "    print(\"MAJ des révisions: fin\")\n",
    "    print(\"# entrées modifiées:\", count)"
   ]
  },
  {
   "cell_type": "markdown",
   "id": "55954389",
   "metadata": {},
   "source": [
    "## Modification de la base"
   ]
  },
  {
   "cell_type": "markdown",
   "id": "e2f1162c",
   "metadata": {},
   "source": [
    "### Test"
   ]
  },
  {
   "cell_type": "code",
   "execution_count": 85,
   "id": "dbf322b2",
   "metadata": {},
   "outputs": [
    {
     "data": {
      "text/html": [
       "<pre style=\"white-space:pre;overflow-x:auto;line-height:normal;font-family:Menlo,'DejaVu Sans Mono',consolas,'Courier New',monospace\">db_update_from_df:\n",
       "</pre>\n"
      ],
      "text/plain": [
       "db_update_from_df:\n"
      ]
     },
     "metadata": {},
     "output_type": "display_data"
    },
    {
     "data": {
      "text/html": [
       "<pre style=\"white-space:pre;overflow-x:auto;line-height:normal;font-family:Menlo,'DejaVu Sans Mono',consolas,'Courier New',monospace\"><span style=\"font-weight: bold\">{</span><span style=\"color: #008000; text-decoration-color: #008000\">'hostname'</span>: <span style=\"color: #008000; text-decoration-color: #008000\">'localhost'</span>, <span style=\"color: #008000; text-decoration-color: #008000\">'port'</span>: <span style=\"color: #008080; text-decoration-color: #008080; font-weight: bold\">6543</span>, <span style=\"color: #008000; text-decoration-color: #008000\">'database'</span>: <span style=\"color: #008000; text-decoration-color: #008000\">'qfdmo'</span><span style=\"font-weight: bold\">}</span>\n",
       "</pre>\n"
      ],
      "text/plain": [
       "\u001b[1m{\u001b[0m\u001b[32m'hostname'\u001b[0m: \u001b[32m'localhost'\u001b[0m, \u001b[32m'port'\u001b[0m: \u001b[1;36m6543\u001b[0m, \u001b[32m'database'\u001b[0m: \u001b[32m'qfdmo'\u001b[0m\u001b[1m}\u001b[0m\n"
      ]
     },
     "metadata": {},
     "output_type": "display_data"
    },
    {
     "data": {
      "text/html": [
       "<pre style=\"white-space:pre;overflow-x:auto;line-height:normal;font-family:Menlo,'DejaVu Sans Mono',consolas,'Courier New',monospace\"><span style=\"font-weight: bold\">{</span><span style=\"color: #008000; text-decoration-color: #008000\">'# acteurs'</span>: <span style=\"color: #008080; text-decoration-color: #008080; font-weight: bold\">9653</span>, <span style=\"color: #008000; text-decoration-color: #008000\">'# révisions existantes'</span>: <span style=\"color: #008080; text-decoration-color: #008080; font-weight: bold\">9653</span><span style=\"font-weight: bold\">}</span>\n",
       "</pre>\n"
      ],
      "text/plain": [
       "\u001b[1m{\u001b[0m\u001b[32m'# acteurs'\u001b[0m: \u001b[1;36m9653\u001b[0m, \u001b[32m'# révisions existantes'\u001b[0m: \u001b[1;36m9653\u001b[0m\u001b[1m}\u001b[0m\n"
      ]
     },
     "metadata": {},
     "output_type": "display_data"
    },
    {
     "data": {
      "text/html": [
       "<pre style=\"white-space:pre;overflow-x:auto;line-height:normal;font-family:Menlo,'DejaVu Sans Mono',consolas,'Courier New',monospace\">MAJ des révisions: début<span style=\"color: #808000; text-decoration-color: #808000\">...</span>\n",
       "</pre>\n"
      ],
      "text/plain": [
       "MAJ des révisions: début\u001b[33m...\u001b[0m\n"
      ]
     },
     "metadata": {},
     "output_type": "display_data"
    },
    {
     "data": {
      "text/html": [
       "<pre style=\"white-space:pre;overflow-x:auto;line-height:normal;font-family:Menlo,'DejaVu Sans Mono',consolas,'Courier New',monospace\">\n",
       "            UPDATE qfdmo_revisionacteur\n",
       "            SET statut = <span style=\"color: #008000; text-decoration-color: #008000\">'INACTIF'</span>,\n",
       "                commentaires = <span style=\"color: #008000; text-decoration-color: #008000\">'20241104_acteurs_inactifs_reparation_lvao_ancien_cma'</span>,\n",
       "                modifie_le = <span style=\"color: #800080; text-decoration-color: #800080; font-weight: bold\">NOW</span><span style=\"font-weight: bold\">()</span>\n",
       "            WHERE identifiant_unique = <span style=\"color: #008000; text-decoration-color: #008000\">'ma2j_108629_reparation'</span>\n",
       "</pre>\n"
      ],
      "text/plain": [
       "\n",
       "            UPDATE qfdmo_revisionacteur\n",
       "            SET statut = \u001b[32m'INACTIF'\u001b[0m,\n",
       "                commentaires = \u001b[32m'20241104_acteurs_inactifs_reparation_lvao_ancien_cma'\u001b[0m,\n",
       "                modifie_le = \u001b[1;35mNOW\u001b[0m\u001b[1m(\u001b[0m\u001b[1m)\u001b[0m\n",
       "            WHERE identifiant_unique = \u001b[32m'ma2j_108629_reparation'\u001b[0m\n"
      ]
     },
     "metadata": {},
     "output_type": "display_data"
    },
    {
     "data": {
      "text/html": [
       "<pre style=\"white-space:pre;overflow-x:auto;line-height:normal;font-family:Menlo,'DejaVu Sans Mono',consolas,'Courier New',monospace\"><span style=\"color: #008080; text-decoration-color: #008080; font-weight: bold\">500</span>\n",
       "</pre>\n"
      ],
      "text/plain": [
       "\u001b[1;36m500\u001b[0m\n"
      ]
     },
     "metadata": {},
     "output_type": "display_data"
    },
    {
     "data": {
      "text/html": [
       "<pre style=\"white-space:pre;overflow-x:auto;line-height:normal;font-family:Menlo,'DejaVu Sans Mono',consolas,'Courier New',monospace\"><span style=\"color: #008080; text-decoration-color: #008080; font-weight: bold\">1000</span>\n",
       "</pre>\n"
      ],
      "text/plain": [
       "\u001b[1;36m1000\u001b[0m\n"
      ]
     },
     "metadata": {},
     "output_type": "display_data"
    },
    {
     "data": {
      "text/html": [
       "<pre style=\"white-space:pre;overflow-x:auto;line-height:normal;font-family:Menlo,'DejaVu Sans Mono',consolas,'Courier New',monospace\"><span style=\"color: #008080; text-decoration-color: #008080; font-weight: bold\">1500</span>\n",
       "</pre>\n"
      ],
      "text/plain": [
       "\u001b[1;36m1500\u001b[0m\n"
      ]
     },
     "metadata": {},
     "output_type": "display_data"
    },
    {
     "data": {
      "text/html": [
       "<pre style=\"white-space:pre;overflow-x:auto;line-height:normal;font-family:Menlo,'DejaVu Sans Mono',consolas,'Courier New',monospace\"><span style=\"color: #008080; text-decoration-color: #008080; font-weight: bold\">2000</span>\n",
       "</pre>\n"
      ],
      "text/plain": [
       "\u001b[1;36m2000\u001b[0m\n"
      ]
     },
     "metadata": {},
     "output_type": "display_data"
    },
    {
     "data": {
      "text/html": [
       "<pre style=\"white-space:pre;overflow-x:auto;line-height:normal;font-family:Menlo,'DejaVu Sans Mono',consolas,'Courier New',monospace\"><span style=\"color: #008080; text-decoration-color: #008080; font-weight: bold\">2500</span>\n",
       "</pre>\n"
      ],
      "text/plain": [
       "\u001b[1;36m2500\u001b[0m\n"
      ]
     },
     "metadata": {},
     "output_type": "display_data"
    },
    {
     "data": {
      "text/html": [
       "<pre style=\"white-space:pre;overflow-x:auto;line-height:normal;font-family:Menlo,'DejaVu Sans Mono',consolas,'Courier New',monospace\"><span style=\"color: #008080; text-decoration-color: #008080; font-weight: bold\">3000</span>\n",
       "</pre>\n"
      ],
      "text/plain": [
       "\u001b[1;36m3000\u001b[0m\n"
      ]
     },
     "metadata": {},
     "output_type": "display_data"
    },
    {
     "data": {
      "text/html": [
       "<pre style=\"white-space:pre;overflow-x:auto;line-height:normal;font-family:Menlo,'DejaVu Sans Mono',consolas,'Courier New',monospace\"><span style=\"color: #008080; text-decoration-color: #008080; font-weight: bold\">3500</span>\n",
       "</pre>\n"
      ],
      "text/plain": [
       "\u001b[1;36m3500\u001b[0m\n"
      ]
     },
     "metadata": {},
     "output_type": "display_data"
    },
    {
     "data": {
      "text/html": [
       "<pre style=\"white-space:pre;overflow-x:auto;line-height:normal;font-family:Menlo,'DejaVu Sans Mono',consolas,'Courier New',monospace\"><span style=\"color: #008080; text-decoration-color: #008080; font-weight: bold\">4000</span>\n",
       "</pre>\n"
      ],
      "text/plain": [
       "\u001b[1;36m4000\u001b[0m\n"
      ]
     },
     "metadata": {},
     "output_type": "display_data"
    },
    {
     "data": {
      "text/html": [
       "<pre style=\"white-space:pre;overflow-x:auto;line-height:normal;font-family:Menlo,'DejaVu Sans Mono',consolas,'Courier New',monospace\"><span style=\"color: #008080; text-decoration-color: #008080; font-weight: bold\">4500</span>\n",
       "</pre>\n"
      ],
      "text/plain": [
       "\u001b[1;36m4500\u001b[0m\n"
      ]
     },
     "metadata": {},
     "output_type": "display_data"
    },
    {
     "data": {
      "text/html": [
       "<pre style=\"white-space:pre;overflow-x:auto;line-height:normal;font-family:Menlo,'DejaVu Sans Mono',consolas,'Courier New',monospace\"><span style=\"color: #008080; text-decoration-color: #008080; font-weight: bold\">5000</span>\n",
       "</pre>\n"
      ],
      "text/plain": [
       "\u001b[1;36m5000\u001b[0m\n"
      ]
     },
     "metadata": {},
     "output_type": "display_data"
    },
    {
     "data": {
      "text/html": [
       "<pre style=\"white-space:pre;overflow-x:auto;line-height:normal;font-family:Menlo,'DejaVu Sans Mono',consolas,'Courier New',monospace\"><span style=\"color: #008080; text-decoration-color: #008080; font-weight: bold\">5500</span>\n",
       "</pre>\n"
      ],
      "text/plain": [
       "\u001b[1;36m5500\u001b[0m\n"
      ]
     },
     "metadata": {},
     "output_type": "display_data"
    },
    {
     "data": {
      "text/html": [
       "<pre style=\"white-space:pre;overflow-x:auto;line-height:normal;font-family:Menlo,'DejaVu Sans Mono',consolas,'Courier New',monospace\"><span style=\"color: #008080; text-decoration-color: #008080; font-weight: bold\">6000</span>\n",
       "</pre>\n"
      ],
      "text/plain": [
       "\u001b[1;36m6000\u001b[0m\n"
      ]
     },
     "metadata": {},
     "output_type": "display_data"
    },
    {
     "data": {
      "text/html": [
       "<pre style=\"white-space:pre;overflow-x:auto;line-height:normal;font-family:Menlo,'DejaVu Sans Mono',consolas,'Courier New',monospace\"><span style=\"color: #008080; text-decoration-color: #008080; font-weight: bold\">6500</span>\n",
       "</pre>\n"
      ],
      "text/plain": [
       "\u001b[1;36m6500\u001b[0m\n"
      ]
     },
     "metadata": {},
     "output_type": "display_data"
    },
    {
     "data": {
      "text/html": [
       "<pre style=\"white-space:pre;overflow-x:auto;line-height:normal;font-family:Menlo,'DejaVu Sans Mono',consolas,'Courier New',monospace\"><span style=\"color: #008080; text-decoration-color: #008080; font-weight: bold\">7000</span>\n",
       "</pre>\n"
      ],
      "text/plain": [
       "\u001b[1;36m7000\u001b[0m\n"
      ]
     },
     "metadata": {},
     "output_type": "display_data"
    },
    {
     "data": {
      "text/html": [
       "<pre style=\"white-space:pre;overflow-x:auto;line-height:normal;font-family:Menlo,'DejaVu Sans Mono',consolas,'Courier New',monospace\"><span style=\"color: #008080; text-decoration-color: #008080; font-weight: bold\">7500</span>\n",
       "</pre>\n"
      ],
      "text/plain": [
       "\u001b[1;36m7500\u001b[0m\n"
      ]
     },
     "metadata": {},
     "output_type": "display_data"
    },
    {
     "data": {
      "text/html": [
       "<pre style=\"white-space:pre;overflow-x:auto;line-height:normal;font-family:Menlo,'DejaVu Sans Mono',consolas,'Courier New',monospace\"><span style=\"color: #008080; text-decoration-color: #008080; font-weight: bold\">8000</span>\n",
       "</pre>\n"
      ],
      "text/plain": [
       "\u001b[1;36m8000\u001b[0m\n"
      ]
     },
     "metadata": {},
     "output_type": "display_data"
    },
    {
     "data": {
      "text/html": [
       "<pre style=\"white-space:pre;overflow-x:auto;line-height:normal;font-family:Menlo,'DejaVu Sans Mono',consolas,'Courier New',monospace\"><span style=\"color: #008080; text-decoration-color: #008080; font-weight: bold\">8500</span>\n",
       "</pre>\n"
      ],
      "text/plain": [
       "\u001b[1;36m8500\u001b[0m\n"
      ]
     },
     "metadata": {},
     "output_type": "display_data"
    },
    {
     "data": {
      "text/html": [
       "<pre style=\"white-space:pre;overflow-x:auto;line-height:normal;font-family:Menlo,'DejaVu Sans Mono',consolas,'Courier New',monospace\"><span style=\"color: #008080; text-decoration-color: #008080; font-weight: bold\">9000</span>\n",
       "</pre>\n"
      ],
      "text/plain": [
       "\u001b[1;36m9000\u001b[0m\n"
      ]
     },
     "metadata": {},
     "output_type": "display_data"
    },
    {
     "data": {
      "text/html": [
       "<pre style=\"white-space:pre;overflow-x:auto;line-height:normal;font-family:Menlo,'DejaVu Sans Mono',consolas,'Courier New',monospace\"><span style=\"color: #008080; text-decoration-color: #008080; font-weight: bold\">9500</span>\n",
       "</pre>\n"
      ],
      "text/plain": [
       "\u001b[1;36m9500\u001b[0m\n"
      ]
     },
     "metadata": {},
     "output_type": "display_data"
    },
    {
     "data": {
      "text/html": [
       "<pre style=\"white-space:pre;overflow-x:auto;line-height:normal;font-family:Menlo,'DejaVu Sans Mono',consolas,'Courier New',monospace\">MAJ des révisions: fin\n",
       "</pre>\n"
      ],
      "text/plain": [
       "MAJ des révisions: fin\n"
      ]
     },
     "metadata": {},
     "output_type": "display_data"
    },
    {
     "data": {
      "text/html": [
       "<pre style=\"white-space:pre;overflow-x:auto;line-height:normal;font-family:Menlo,'DejaVu Sans Mono',consolas,'Courier New',monospace\"># entrées modifiées: <span style=\"color: #008080; text-decoration-color: #008080; font-weight: bold\">9653</span>\n",
       "</pre>\n"
      ],
      "text/plain": [
       "# entrées modifiées: \u001b[1;36m9653\u001b[0m\n"
      ]
     },
     "metadata": {},
     "output_type": "display_data"
    }
   ],
   "source": [
    "db_update_from_df(df, db_test_engine)"
   ]
  },
  {
   "cell_type": "markdown",
   "id": "13900051",
   "metadata": {},
   "source": [
    "## Production"
   ]
  },
  {
   "cell_type": "code",
   "execution_count": 86,
   "id": "19f3f7d2",
   "metadata": {},
   "outputs": [],
   "source": [
    "raise Exception(\"Sur la point de modifier la base de prod, retirer cette ligne pour continuer\")"
   ]
  },
  {
   "cell_type": "code",
   "execution_count": 87,
   "id": "fe72d881",
   "metadata": {},
   "outputs": [
    {
     "data": {
      "text/html": [
       "<pre style=\"white-space:pre;overflow-x:auto;line-height:normal;font-family:Menlo,'DejaVu Sans Mono',consolas,'Courier New',monospace\">db_update_from_df:\n",
       "</pre>\n"
      ],
      "text/plain": [
       "db_update_from_df:\n"
      ]
     },
     "metadata": {},
     "output_type": "display_data"
    },
    {
     "data": {
      "text/html": [
       "<pre style=\"white-space:pre;overflow-x:auto;line-height:normal;font-family:Menlo,'DejaVu Sans Mono',consolas,'Courier New',monospace\"><span style=\"font-weight: bold\">{</span>\n",
       "    <span style=\"color: #008000; text-decoration-color: #008000\">'hostname'</span>: <span style=\"color: #008000; text-decoration-color: #008000\">'quefairedem-5084.postgresql.a.osc-fr1.scalingo-dbs.com'</span>,\n",
       "    <span style=\"color: #008000; text-decoration-color: #008000\">'port'</span>: <span style=\"color: #008080; text-decoration-color: #008080; font-weight: bold\">33262</span>,\n",
       "    <span style=\"color: #008000; text-decoration-color: #008000\">'database'</span>: <span style=\"color: #008000; text-decoration-color: #008000\">'quefairedem_5084'</span>\n",
       "<span style=\"font-weight: bold\">}</span>\n",
       "</pre>\n"
      ],
      "text/plain": [
       "\u001b[1m{\u001b[0m\n",
       "    \u001b[32m'hostname'\u001b[0m: \u001b[32m'quefairedem-5084.postgresql.a.osc-fr1.scalingo-dbs.com'\u001b[0m,\n",
       "    \u001b[32m'port'\u001b[0m: \u001b[1;36m33262\u001b[0m,\n",
       "    \u001b[32m'database'\u001b[0m: \u001b[32m'quefairedem_5084'\u001b[0m\n",
       "\u001b[1m}\u001b[0m\n"
      ]
     },
     "metadata": {},
     "output_type": "display_data"
    },
    {
     "data": {
      "text/html": [
       "<pre style=\"white-space:pre;overflow-x:auto;line-height:normal;font-family:Menlo,'DejaVu Sans Mono',consolas,'Courier New',monospace\"><span style=\"font-weight: bold\">{</span><span style=\"color: #008000; text-decoration-color: #008000\">'# acteurs'</span>: <span style=\"color: #008080; text-decoration-color: #008080; font-weight: bold\">9653</span>, <span style=\"color: #008000; text-decoration-color: #008000\">'# révisions existantes'</span>: <span style=\"color: #008080; text-decoration-color: #008080; font-weight: bold\">9653</span><span style=\"font-weight: bold\">}</span>\n",
       "</pre>\n"
      ],
      "text/plain": [
       "\u001b[1m{\u001b[0m\u001b[32m'# acteurs'\u001b[0m: \u001b[1;36m9653\u001b[0m, \u001b[32m'# révisions existantes'\u001b[0m: \u001b[1;36m9653\u001b[0m\u001b[1m}\u001b[0m\n"
      ]
     },
     "metadata": {},
     "output_type": "display_data"
    },
    {
     "data": {
      "text/html": [
       "<pre style=\"white-space:pre;overflow-x:auto;line-height:normal;font-family:Menlo,'DejaVu Sans Mono',consolas,'Courier New',monospace\">MAJ des révisions: début<span style=\"color: #808000; text-decoration-color: #808000\">...</span>\n",
       "</pre>\n"
      ],
      "text/plain": [
       "MAJ des révisions: début\u001b[33m...\u001b[0m\n"
      ]
     },
     "metadata": {},
     "output_type": "display_data"
    },
    {
     "data": {
      "text/html": [
       "<pre style=\"white-space:pre;overflow-x:auto;line-height:normal;font-family:Menlo,'DejaVu Sans Mono',consolas,'Courier New',monospace\">\n",
       "            UPDATE qfdmo_revisionacteur\n",
       "            SET statut = <span style=\"color: #008000; text-decoration-color: #008000\">'INACTIF'</span>,\n",
       "                commentaires = <span style=\"color: #008000; text-decoration-color: #008000\">'20241104_acteurs_inactifs_reparation_lvao_ancien_cma'</span>,\n",
       "                modifie_le = <span style=\"color: #800080; text-decoration-color: #800080; font-weight: bold\">NOW</span><span style=\"font-weight: bold\">()</span>\n",
       "            WHERE identifiant_unique = <span style=\"color: #008000; text-decoration-color: #008000\">'fps_171567_reparation'</span>\n",
       "</pre>\n"
      ],
      "text/plain": [
       "\n",
       "            UPDATE qfdmo_revisionacteur\n",
       "            SET statut = \u001b[32m'INACTIF'\u001b[0m,\n",
       "                commentaires = \u001b[32m'20241104_acteurs_inactifs_reparation_lvao_ancien_cma'\u001b[0m,\n",
       "                modifie_le = \u001b[1;35mNOW\u001b[0m\u001b[1m(\u001b[0m\u001b[1m)\u001b[0m\n",
       "            WHERE identifiant_unique = \u001b[32m'fps_171567_reparation'\u001b[0m\n"
      ]
     },
     "metadata": {},
     "output_type": "display_data"
    },
    {
     "data": {
      "text/html": [
       "<pre style=\"white-space:pre;overflow-x:auto;line-height:normal;font-family:Menlo,'DejaVu Sans Mono',consolas,'Courier New',monospace\"><span style=\"color: #008080; text-decoration-color: #008080; font-weight: bold\">500</span>\n",
       "</pre>\n"
      ],
      "text/plain": [
       "\u001b[1;36m500\u001b[0m\n"
      ]
     },
     "metadata": {},
     "output_type": "display_data"
    },
    {
     "data": {
      "text/html": [
       "<pre style=\"white-space:pre;overflow-x:auto;line-height:normal;font-family:Menlo,'DejaVu Sans Mono',consolas,'Courier New',monospace\"><span style=\"color: #008080; text-decoration-color: #008080; font-weight: bold\">1000</span>\n",
       "</pre>\n"
      ],
      "text/plain": [
       "\u001b[1;36m1000\u001b[0m\n"
      ]
     },
     "metadata": {},
     "output_type": "display_data"
    },
    {
     "data": {
      "text/html": [
       "<pre style=\"white-space:pre;overflow-x:auto;line-height:normal;font-family:Menlo,'DejaVu Sans Mono',consolas,'Courier New',monospace\"><span style=\"color: #008080; text-decoration-color: #008080; font-weight: bold\">1500</span>\n",
       "</pre>\n"
      ],
      "text/plain": [
       "\u001b[1;36m1500\u001b[0m\n"
      ]
     },
     "metadata": {},
     "output_type": "display_data"
    },
    {
     "data": {
      "text/html": [
       "<pre style=\"white-space:pre;overflow-x:auto;line-height:normal;font-family:Menlo,'DejaVu Sans Mono',consolas,'Courier New',monospace\"><span style=\"color: #008080; text-decoration-color: #008080; font-weight: bold\">2000</span>\n",
       "</pre>\n"
      ],
      "text/plain": [
       "\u001b[1;36m2000\u001b[0m\n"
      ]
     },
     "metadata": {},
     "output_type": "display_data"
    },
    {
     "data": {
      "text/html": [
       "<pre style=\"white-space:pre;overflow-x:auto;line-height:normal;font-family:Menlo,'DejaVu Sans Mono',consolas,'Courier New',monospace\"><span style=\"color: #008080; text-decoration-color: #008080; font-weight: bold\">2500</span>\n",
       "</pre>\n"
      ],
      "text/plain": [
       "\u001b[1;36m2500\u001b[0m\n"
      ]
     },
     "metadata": {},
     "output_type": "display_data"
    },
    {
     "data": {
      "text/html": [
       "<pre style=\"white-space:pre;overflow-x:auto;line-height:normal;font-family:Menlo,'DejaVu Sans Mono',consolas,'Courier New',monospace\"><span style=\"color: #008080; text-decoration-color: #008080; font-weight: bold\">3000</span>\n",
       "</pre>\n"
      ],
      "text/plain": [
       "\u001b[1;36m3000\u001b[0m\n"
      ]
     },
     "metadata": {},
     "output_type": "display_data"
    },
    {
     "data": {
      "text/html": [
       "<pre style=\"white-space:pre;overflow-x:auto;line-height:normal;font-family:Menlo,'DejaVu Sans Mono',consolas,'Courier New',monospace\"><span style=\"color: #008080; text-decoration-color: #008080; font-weight: bold\">3500</span>\n",
       "</pre>\n"
      ],
      "text/plain": [
       "\u001b[1;36m3500\u001b[0m\n"
      ]
     },
     "metadata": {},
     "output_type": "display_data"
    },
    {
     "data": {
      "text/html": [
       "<pre style=\"white-space:pre;overflow-x:auto;line-height:normal;font-family:Menlo,'DejaVu Sans Mono',consolas,'Courier New',monospace\"><span style=\"color: #008080; text-decoration-color: #008080; font-weight: bold\">4000</span>\n",
       "</pre>\n"
      ],
      "text/plain": [
       "\u001b[1;36m4000\u001b[0m\n"
      ]
     },
     "metadata": {},
     "output_type": "display_data"
    },
    {
     "data": {
      "text/html": [
       "<pre style=\"white-space:pre;overflow-x:auto;line-height:normal;font-family:Menlo,'DejaVu Sans Mono',consolas,'Courier New',monospace\"><span style=\"color: #008080; text-decoration-color: #008080; font-weight: bold\">4500</span>\n",
       "</pre>\n"
      ],
      "text/plain": [
       "\u001b[1;36m4500\u001b[0m\n"
      ]
     },
     "metadata": {},
     "output_type": "display_data"
    },
    {
     "data": {
      "text/html": [
       "<pre style=\"white-space:pre;overflow-x:auto;line-height:normal;font-family:Menlo,'DejaVu Sans Mono',consolas,'Courier New',monospace\"><span style=\"color: #008080; text-decoration-color: #008080; font-weight: bold\">5000</span>\n",
       "</pre>\n"
      ],
      "text/plain": [
       "\u001b[1;36m5000\u001b[0m\n"
      ]
     },
     "metadata": {},
     "output_type": "display_data"
    },
    {
     "data": {
      "text/html": [
       "<pre style=\"white-space:pre;overflow-x:auto;line-height:normal;font-family:Menlo,'DejaVu Sans Mono',consolas,'Courier New',monospace\"><span style=\"color: #008080; text-decoration-color: #008080; font-weight: bold\">5500</span>\n",
       "</pre>\n"
      ],
      "text/plain": [
       "\u001b[1;36m5500\u001b[0m\n"
      ]
     },
     "metadata": {},
     "output_type": "display_data"
    },
    {
     "data": {
      "text/html": [
       "<pre style=\"white-space:pre;overflow-x:auto;line-height:normal;font-family:Menlo,'DejaVu Sans Mono',consolas,'Courier New',monospace\"><span style=\"color: #008080; text-decoration-color: #008080; font-weight: bold\">6000</span>\n",
       "</pre>\n"
      ],
      "text/plain": [
       "\u001b[1;36m6000\u001b[0m\n"
      ]
     },
     "metadata": {},
     "output_type": "display_data"
    },
    {
     "data": {
      "text/html": [
       "<pre style=\"white-space:pre;overflow-x:auto;line-height:normal;font-family:Menlo,'DejaVu Sans Mono',consolas,'Courier New',monospace\"><span style=\"color: #008080; text-decoration-color: #008080; font-weight: bold\">6500</span>\n",
       "</pre>\n"
      ],
      "text/plain": [
       "\u001b[1;36m6500\u001b[0m\n"
      ]
     },
     "metadata": {},
     "output_type": "display_data"
    },
    {
     "data": {
      "text/html": [
       "<pre style=\"white-space:pre;overflow-x:auto;line-height:normal;font-family:Menlo,'DejaVu Sans Mono',consolas,'Courier New',monospace\"><span style=\"color: #008080; text-decoration-color: #008080; font-weight: bold\">7000</span>\n",
       "</pre>\n"
      ],
      "text/plain": [
       "\u001b[1;36m7000\u001b[0m\n"
      ]
     },
     "metadata": {},
     "output_type": "display_data"
    },
    {
     "data": {
      "text/html": [
       "<pre style=\"white-space:pre;overflow-x:auto;line-height:normal;font-family:Menlo,'DejaVu Sans Mono',consolas,'Courier New',monospace\"><span style=\"color: #008080; text-decoration-color: #008080; font-weight: bold\">7500</span>\n",
       "</pre>\n"
      ],
      "text/plain": [
       "\u001b[1;36m7500\u001b[0m\n"
      ]
     },
     "metadata": {},
     "output_type": "display_data"
    },
    {
     "data": {
      "text/html": [
       "<pre style=\"white-space:pre;overflow-x:auto;line-height:normal;font-family:Menlo,'DejaVu Sans Mono',consolas,'Courier New',monospace\"><span style=\"color: #008080; text-decoration-color: #008080; font-weight: bold\">8000</span>\n",
       "</pre>\n"
      ],
      "text/plain": [
       "\u001b[1;36m8000\u001b[0m\n"
      ]
     },
     "metadata": {},
     "output_type": "display_data"
    },
    {
     "data": {
      "text/html": [
       "<pre style=\"white-space:pre;overflow-x:auto;line-height:normal;font-family:Menlo,'DejaVu Sans Mono',consolas,'Courier New',monospace\"><span style=\"color: #008080; text-decoration-color: #008080; font-weight: bold\">8500</span>\n",
       "</pre>\n"
      ],
      "text/plain": [
       "\u001b[1;36m8500\u001b[0m\n"
      ]
     },
     "metadata": {},
     "output_type": "display_data"
    },
    {
     "data": {
      "text/html": [
       "<pre style=\"white-space:pre;overflow-x:auto;line-height:normal;font-family:Menlo,'DejaVu Sans Mono',consolas,'Courier New',monospace\"><span style=\"color: #008080; text-decoration-color: #008080; font-weight: bold\">9000</span>\n",
       "</pre>\n"
      ],
      "text/plain": [
       "\u001b[1;36m9000\u001b[0m\n"
      ]
     },
     "metadata": {},
     "output_type": "display_data"
    },
    {
     "data": {
      "text/html": [
       "<pre style=\"white-space:pre;overflow-x:auto;line-height:normal;font-family:Menlo,'DejaVu Sans Mono',consolas,'Courier New',monospace\"><span style=\"color: #008080; text-decoration-color: #008080; font-weight: bold\">9500</span>\n",
       "</pre>\n"
      ],
      "text/plain": [
       "\u001b[1;36m9500\u001b[0m\n"
      ]
     },
     "metadata": {},
     "output_type": "display_data"
    },
    {
     "data": {
      "text/html": [
       "<pre style=\"white-space:pre;overflow-x:auto;line-height:normal;font-family:Menlo,'DejaVu Sans Mono',consolas,'Courier New',monospace\">MAJ des révisions: fin\n",
       "</pre>\n"
      ],
      "text/plain": [
       "MAJ des révisions: fin\n"
      ]
     },
     "metadata": {},
     "output_type": "display_data"
    },
    {
     "data": {
      "text/html": [
       "<pre style=\"white-space:pre;overflow-x:auto;line-height:normal;font-family:Menlo,'DejaVu Sans Mono',consolas,'Courier New',monospace\"># entrées modifiées: <span style=\"color: #008080; text-decoration-color: #008080; font-weight: bold\">9653</span>\n",
       "</pre>\n"
      ],
      "text/plain": [
       "# entrées modifiées: \u001b[1;36m9653\u001b[0m\n"
      ]
     },
     "metadata": {},
     "output_type": "display_data"
    }
   ],
   "source": [
    "#db_update_from_df(df, db_prod_engine)"
   ]
  }
 ],
 "metadata": {
  "kernelspec": {
   "display_name": ".venv",
   "language": "python",
   "name": "python3"
  },
  "language_info": {
   "codemirror_mode": {
    "name": "ipython",
    "version": 3
   },
   "file_extension": ".py",
   "mimetype": "text/x-python",
   "name": "python",
   "nbconvert_exporter": "python",
   "pygments_lexer": "ipython3",
   "version": "3.12.3"
  }
 },
 "nbformat": 4,
 "nbformat_minor": 5
}
