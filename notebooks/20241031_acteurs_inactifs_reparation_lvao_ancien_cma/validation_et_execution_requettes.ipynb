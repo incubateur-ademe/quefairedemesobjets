{
 "cells": [
  {
   "cell_type": "markdown",
   "id": "b86432b3",
   "metadata": {},
   "source": [
    "# Rendre inactifs 6264 acteurs reparation LVAO (ancien CMA)\n",
    "\n",
    "[Ticket](https://www.notion.so/accelerateur-transition-ecologique-ademe/Supprimer-les-artisans-Ferm-s-de-la-vieille-source-CMA-non-r-paracteurs-12e6523d57d78045a70ed85ad8a47796)\n",
    "\n",
    " - **QUOI**: modifier 6264 acteurs LVAO `_reparation_` (anciennement CMA) en changeant `statut` = `INACTIF`\n",
    " - **POURQUOI**: les entrées dans la base sont obsolètes\n",
    " - **COMMENT**:\n",
    "    - intégration avec la base SIRENE en local\n",
    "    - génération d'un export et revue manuelle\n",
    "    - génération des requettes SQL sur la base de l'export\n",
    "\n"
   ]
  },
  {
   "cell_type": "markdown",
   "id": "376f5950",
   "metadata": {},
   "source": [
    "## Paramètres"
   ]
  },
  {
   "cell_type": "code",
   "execution_count": 13,
   "id": "2524cc6e",
   "metadata": {},
   "outputs": [],
   "source": [
    "import os\n",
    "from datetime import datetime\n",
    "\n",
    "# Base de données\n",
    "DB_TEST_URL = os.environ[\"DB_TEST_URL\"]\n",
    "DB_PROD_URL = os.environ[\"DB_PROD_URL\"]\n",
    "DB_TABLE = \"qfdmo_acteur\"\n",
    "DB_STATUS_FIELD = \"statut\"\n",
    "DB_STATUS_VALUE = \"INACTIF\"\n",
    "DB_COMMENT_FIELD = \"commentaires\"\n",
    "DB_COMMENT_VALUE = \"20241031_acteurs_inactifs_reparation_lvao_ancien_cma\"\n",
    "DB_ID_FIELD = \"identifiant_unique\"\n",
    "DB_TIMESTAMP_FIELD = \"modifie_le\"\n",
    "# on ne touche pas à se qui a été modifié end prod\n",
    "# depuis l'export\n",
    "DB_TIMESTAMP_SAFEGUARD = datetime.strptime(\"2024-10-29 00:00:00\", \"%Y-%m-%d %H:%M:%S\")\n",
    "\n",
    "# File system\n",
    "#DIR_CURRENT = os.path.dirname(os.path.abspath(__file__))\n",
    "#DIR_DATA = os.path.join(DIR_CURRENT, \"data\")\n",
    "\n",
    "# Export validé\n",
    "DATA_FILEPATH = \"./data/6264_acteurs_a_desactiver.csv\"\n",
    "DATA_FILTER_KEY = \"validation\"\n",
    "# note: seule un échantillion à été validé donc on garde\n",
    "# tout sauf 1 entrée modifiée sur prod entre temps\n",
    "DATA_FILTER_EXCLUDE = \"NE PAS TOUCHER\"\n",
    "DATA_FILTER_LENGTH = 6264 # on s'attend à modifier 6264 acteurs\n",
    "DATA_STATUS_FIELD = \"statut\"\n",
    "DATA_STATUS_CURRENT = \"ACTIF\"\n",
    "\n",
    "# Les champs de la source de données SIRENE nous indiquant\n",
    "# que soit l'entreprise est en cessation (C), soit\n",
    "# l'établissement est fermé (F)\n",
    "DATA_SIREN_STATUS_FIELD = \"etatAdministratifUniteLegale\"\n",
    "DATA_SIREN_STATUS_VALUE = \"C\"\n",
    "DATA_SIRET_STATUS_FIELD = \"etatAdministratifEtablissement\"\n",
    "DATA_SIRET_STATUS_VALUE = \"F\"\n"
   ]
  },
  {
   "cell_type": "markdown",
   "id": "c584d66c",
   "metadata": {},
   "source": [
    "## Import des librairies"
   ]
  },
  {
   "cell_type": "code",
   "execution_count": 14,
   "id": "1790323e-8d84-4924-a4bc-fc74d186e42f",
   "metadata": {},
   "outputs": [],
   "source": [
    "import pandas as pd\n",
    "import numpy as np\n",
    "from sqlalchemy import create_engine\n",
    "from rich import print\n",
    "from rich.progress import track"
   ]
  },
  {
   "cell_type": "markdown",
   "id": "b42d285d",
   "metadata": {},
   "source": [
    "## Valider connection à la base de données"
   ]
  },
  {
   "cell_type": "code",
   "execution_count": 15,
   "id": "4819f9ab",
   "metadata": {},
   "outputs": [],
   "source": [
    "# Create and test engines\n",
    "#assert DB_TEST_URL != DB_PROD_URL, \"DB_TEST_URL et DB_PROD_URL doivent être différents\"\n",
    "db_test_engine = create_engine(DB_TEST_URL)\n",
    "db_prod_engine = create_engine(DB_PROD_URL)\n",
    "for engine in [db_test_engine, db_prod_engine]:\n",
    "    conn = engine.connect()\n",
    "    conn.execute(f\"SELECT * FROM {DB_TABLE} LIMIT 1\")\n",
    "    conn.close()"
   ]
  },
  {
   "cell_type": "markdown",
   "id": "0bf6cc64",
   "metadata": {},
   "source": [
    "## Lecture et validation de la data"
   ]
  },
  {
   "cell_type": "code",
   "execution_count": 16,
   "id": "61913a44",
   "metadata": {},
   "outputs": [
    {
     "data": {
      "text/html": [
       "<div>\n",
       "<style scoped>\n",
       "    .dataframe tbody tr th:only-of-type {\n",
       "        vertical-align: middle;\n",
       "    }\n",
       "\n",
       "    .dataframe tbody tr th {\n",
       "        vertical-align: top;\n",
       "    }\n",
       "\n",
       "    .dataframe thead th {\n",
       "        text-align: right;\n",
       "    }\n",
       "</style>\n",
       "<table border=\"1\" class=\"dataframe\">\n",
       "  <thead>\n",
       "    <tr style=\"text-align: right;\">\n",
       "      <th></th>\n",
       "      <th>validation</th>\n",
       "      <th>django</th>\n",
       "      <th>sirene_unite_legale</th>\n",
       "      <th>sirene_etablissement</th>\n",
       "      <th>etatAdministratifUniteLegale</th>\n",
       "      <th>etatAdministratifEtablissement</th>\n",
       "      <th>nom</th>\n",
       "      <th>description</th>\n",
       "      <th>siret</th>\n",
       "      <th>identifiant_unique</th>\n",
       "      <th>adresse</th>\n",
       "      <th>adresse_complement</th>\n",
       "      <th>code_postal</th>\n",
       "      <th>ville</th>\n",
       "      <th>statut</th>\n",
       "    </tr>\n",
       "  </thead>\n",
       "  <tbody>\n",
       "    <tr>\n",
       "      <th>0</th>\n",
       "      <td>None</td>\n",
       "      <td>lien</td>\n",
       "      <td>lien</td>\n",
       "      <td>lien</td>\n",
       "      <td>A</td>\n",
       "      <td>F</td>\n",
       "      <td>Axelle Bijoux</td>\n",
       "      <td>None</td>\n",
       "      <td>80458761600025</td>\n",
       "      <td>axelle_bijoux_156582_reparation_0689109752</td>\n",
       "      <td>7 RUE DU SALLE</td>\n",
       "      <td>None</td>\n",
       "      <td>29000</td>\n",
       "      <td>QUIMPER</td>\n",
       "      <td>ACTIF</td>\n",
       "    </tr>\n",
       "    <tr>\n",
       "      <th>1</th>\n",
       "      <td>None</td>\n",
       "      <td>lien</td>\n",
       "      <td>lien</td>\n",
       "      <td>lien</td>\n",
       "      <td>C</td>\n",
       "      <td>F</td>\n",
       "      <td>Carre Confidentiel</td>\n",
       "      <td>None</td>\n",
       "      <td>75372533200021</td>\n",
       "      <td>carre_confidentiel_168156_reparation_0648090745</td>\n",
       "      <td>27 AVENUE THIERS</td>\n",
       "      <td>ETG 1</td>\n",
       "      <td>33100</td>\n",
       "      <td>BORDEAUX</td>\n",
       "      <td>ACTIF</td>\n",
       "    </tr>\n",
       "    <tr>\n",
       "      <th>2</th>\n",
       "      <td>None</td>\n",
       "      <td>lien</td>\n",
       "      <td>lien</td>\n",
       "      <td>lien</td>\n",
       "      <td>C</td>\n",
       "      <td>F</td>\n",
       "      <td>Chez Le Geek</td>\n",
       "      <td>None</td>\n",
       "      <td>88491920000011</td>\n",
       "      <td>chez_le_geek_114232_reparation_0658534768</td>\n",
       "      <td>13 RUE SAINT PIERRE</td>\n",
       "      <td>None</td>\n",
       "      <td>42600</td>\n",
       "      <td>MONTBRISON</td>\n",
       "      <td>ACTIF</td>\n",
       "    </tr>\n",
       "    <tr>\n",
       "      <th>3</th>\n",
       "      <td>None</td>\n",
       "      <td>lien</td>\n",
       "      <td>lien</td>\n",
       "      <td>lien</td>\n",
       "      <td>A</td>\n",
       "      <td>F</td>\n",
       "      <td>De Fil En Aiguille</td>\n",
       "      <td>None</td>\n",
       "      <td>41292816000024</td>\n",
       "      <td>de_fil_en_aiguille_177625_reparation_0643053932</td>\n",
       "      <td>19 RUE CORNUE</td>\n",
       "      <td>None</td>\n",
       "      <td>84000</td>\n",
       "      <td>AVIGNON</td>\n",
       "      <td>ACTIF</td>\n",
       "    </tr>\n",
       "    <tr>\n",
       "      <th>4</th>\n",
       "      <td>None</td>\n",
       "      <td>lien</td>\n",
       "      <td>lien</td>\n",
       "      <td>lien</td>\n",
       "      <td>A</td>\n",
       "      <td>F</td>\n",
       "      <td>Diapason Horlogerie</td>\n",
       "      <td>None</td>\n",
       "      <td>52865747100025</td>\n",
       "      <td>diapason_horlogerie_166744_reparation_0609920110</td>\n",
       "      <td>01 RUE RENAU D'ELISSAGARAY</td>\n",
       "      <td>None</td>\n",
       "      <td>64500</td>\n",
       "      <td>ST JEAN DE LUZ</td>\n",
       "      <td>ACTIF</td>\n",
       "    </tr>\n",
       "  </tbody>\n",
       "</table>\n",
       "</div>"
      ],
      "text/plain": [
       "  validation django sirene_unite_legale sirene_etablissement  \\\n",
       "0       None   lien                lien                 lien   \n",
       "1       None   lien                lien                 lien   \n",
       "2       None   lien                lien                 lien   \n",
       "3       None   lien                lien                 lien   \n",
       "4       None   lien                lien                 lien   \n",
       "\n",
       "  etatAdministratifUniteLegale etatAdministratifEtablissement  \\\n",
       "0                            A                              F   \n",
       "1                            C                              F   \n",
       "2                            C                              F   \n",
       "3                            A                              F   \n",
       "4                            A                              F   \n",
       "\n",
       "                   nom description           siret  \\\n",
       "0        Axelle Bijoux        None  80458761600025   \n",
       "1   Carre Confidentiel        None  75372533200021   \n",
       "2         Chez Le Geek        None  88491920000011   \n",
       "3   De Fil En Aiguille        None  41292816000024   \n",
       "4  Diapason Horlogerie        None  52865747100025   \n",
       "\n",
       "                                 identifiant_unique  \\\n",
       "0        axelle_bijoux_156582_reparation_0689109752   \n",
       "1   carre_confidentiel_168156_reparation_0648090745   \n",
       "2         chez_le_geek_114232_reparation_0658534768   \n",
       "3   de_fil_en_aiguille_177625_reparation_0643053932   \n",
       "4  diapason_horlogerie_166744_reparation_0609920110   \n",
       "\n",
       "                      adresse adresse_complement  code_postal           ville  \\\n",
       "0              7 RUE DU SALLE               None        29000         QUIMPER   \n",
       "1            27 AVENUE THIERS              ETG 1        33100        BORDEAUX   \n",
       "2         13 RUE SAINT PIERRE               None        42600      MONTBRISON   \n",
       "3               19 RUE CORNUE               None        84000         AVIGNON   \n",
       "4  01 RUE RENAU D'ELISSAGARAY               None        64500  ST JEAN DE LUZ   \n",
       "\n",
       "  statut  \n",
       "0  ACTIF  \n",
       "1  ACTIF  \n",
       "2  ACTIF  \n",
       "3  ACTIF  \n",
       "4  ACTIF  "
      ]
     },
     "execution_count": 16,
     "metadata": {},
     "output_type": "execute_result"
    }
   ],
   "source": [
    "df = pd.read_csv(DATA_FILEPATH).replace({np.nan: None})\n",
    "df.head()"
   ]
  },
  {
   "cell_type": "code",
   "execution_count": 17,
   "id": "a98545c5",
   "metadata": {},
   "outputs": [
    {
     "data": {
      "text/html": [
       "<pre style=\"white-space:pre;overflow-x:auto;line-height:normal;font-family:Menlo,'DejaVu Sans Mono',consolas,'Courier New',monospace\">Nombre d'acteurs à modifier: <span style=\"color: #008080; text-decoration-color: #008080; font-weight: bold\">6264</span>\n",
       "</pre>\n"
      ],
      "text/plain": [
       "Nombre d'acteurs à modifier: \u001b[1;36m6264\u001b[0m\n"
      ]
     },
     "metadata": {},
     "output_type": "display_data"
    }
   ],
   "source": [
    "# On filtre les acteurs à modifier\n",
    "filter_validation = df[DATA_FILTER_KEY] != DATA_FILTER_EXCLUDE\n",
    "filter_siren = df[DATA_SIREN_STATUS_FIELD] == DATA_SIREN_STATUS_VALUE\n",
    "filter_siret = df[DATA_SIRET_STATUS_FIELD] == DATA_SIRET_STATUS_VALUE\n",
    "\n",
    "df = df[filter_validation & (filter_siren | filter_siret)]\n",
    "print(f\"Nombre d'acteurs à modifier: {len(df)}\")\n",
    "assert len(df) == DATA_FILTER_LENGTH, f\"On devrait avoir {DATA_FILTER_LENGTH} acteurs à modifier\""
   ]
  },
  {
   "cell_type": "code",
   "execution_count": 18,
   "id": "8bbba318",
   "metadata": {},
   "outputs": [],
   "source": [
    "# On s'assure qu'ils étaient tous actifs\n",
    "assert all(df[DATA_STATUS_FIELD] == DATA_STATUS_CURRENT), \"Tous les acteurs devraient être actifs\"\n",
    "# Qu'on avait pas de doublon sur le champ identifiant\n",
    "assert len(df) == len(df[DB_ID_FIELD].unique()), f\"Présence de doublons sur le champ {DB_ID_FIELD}\""
   ]
  },
  {
   "cell_type": "markdown",
   "id": "c7038246",
   "metadata": {},
   "source": [
    "## Logique de modification de la base"
   ]
  },
  {
   "cell_type": "code",
   "execution_count": 26,
   "id": "dd92d530",
   "metadata": {},
   "outputs": [],
   "source": [
    "def df_update_db(df: pd.DataFrame, engine):\n",
    "    verbose = True\n",
    "    conn = engine.connect()\n",
    "    with conn.begin():\n",
    "        for i, row in track(df.iterrows(), total=len(df)):\n",
    "            # Avant la modification on s'assure que l'entrée\n",
    "            # n'a pas été modifiée depuis la sauvegarde\n",
    "            if verbose:\n",
    "                print(\"MAJ de l'acteur:\", row[DB_ID_FIELD])\n",
    "            query_check = f\"SELECT {DB_TIMESTAMP_FIELD} FROM {DB_TABLE} WHERE {DB_ID_FIELD} = '{row[DB_ID_FIELD]}'\"\n",
    "            last_modified = conn.execute(query_check).fetchone()[0].replace(tzinfo=None)\n",
    "            if verbose:\n",
    "                print(f\"\\t{DB_TIMESTAMP_FIELD} = \", last_modified,\"vs. safeguard =\",str(DB_TIMESTAMP_SAFEGUARD))\n",
    "            # parse timestamps and ensure last_modified < DB_TIMESTAMP_SAFEGUARD\n",
    "            assert last_modified < DB_TIMESTAMP_SAFEGUARD, f\"La date de dernière modification de l'acteur {row[DB_ID_FIELD]} est postérieure à la date de sauvegarde\"\n",
    "\n",
    "            # On met à jour le statut et les commentaires\n",
    "            query_update = f\"\"\"\n",
    "                UPDATE {DB_TABLE}\n",
    "                SET\n",
    "                    {DB_STATUS_FIELD} = '{DB_STATUS_VALUE}',\n",
    "                    {DB_COMMENT_FIELD} = '{DB_COMMENT_VALUE}',\n",
    "                    -- Au cas où notre champ timestamp n'est pas mis à jour automatiquement par le schema\n",
    "                    {DB_TIMESTAMP_FIELD} = NOW()\n",
    "                WHERE {DB_ID_FIELD} = '{row[DB_ID_FIELD]}'\"\"\"\n",
    "            if verbose:\n",
    "                print(query_update)\n",
    "            conn.execute(query_update)\n",
    "            verbose = False\n",
    "    print(f\"{len(df)} acteurs mis à jour\")\n",
    "    conn.close()"
   ]
  },
  {
   "cell_type": "markdown",
   "id": "55954389",
   "metadata": {},
   "source": [
    "## Modification de la base"
   ]
  },
  {
   "cell_type": "markdown",
   "id": "e2f1162c",
   "metadata": {},
   "source": [
    "### Test"
   ]
  },
  {
   "cell_type": "code",
   "execution_count": 27,
   "id": "dbf322b2",
   "metadata": {},
   "outputs": [
    {
     "data": {
      "text/html": [
       "<pre style=\"white-space:pre;overflow-x:auto;line-height:normal;font-family:Menlo,'DejaVu Sans Mono',consolas,'Courier New',monospace\">MAJ de l'acteur: axelle_bijoux_156582_reparation_0689109752\n",
       "</pre>\n"
      ],
      "text/plain": [
       "MAJ de l'acteur: axelle_bijoux_156582_reparation_0689109752\n"
      ]
     },
     "metadata": {},
     "output_type": "display_data"
    },
    {
     "data": {
      "text/html": [
       "<pre style=\"white-space:pre;overflow-x:auto;line-height:normal;font-family:Menlo,'DejaVu Sans Mono',consolas,'Courier New',monospace\">        modifie_le =  <span style=\"color: #008080; text-decoration-color: #008080; font-weight: bold\">2023</span>-<span style=\"color: #008080; text-decoration-color: #008080; font-weight: bold\">10</span>-<span style=\"color: #008080; text-decoration-color: #008080; font-weight: bold\">31</span> <span style=\"color: #00ff00; text-decoration-color: #00ff00; font-weight: bold\">09:56:51</span>.<span style=\"color: #008080; text-decoration-color: #008080; font-weight: bold\">215125</span> vs. safeguard = <span style=\"color: #008080; text-decoration-color: #008080; font-weight: bold\">2024</span>-<span style=\"color: #008080; text-decoration-color: #008080; font-weight: bold\">10</span>-<span style=\"color: #008080; text-decoration-color: #008080; font-weight: bold\">29</span> <span style=\"color: #00ff00; text-decoration-color: #00ff00; font-weight: bold\">00:00:00</span>\n",
       "</pre>\n"
      ],
      "text/plain": [
       "        modifie_le =  \u001b[1;36m2023\u001b[0m-\u001b[1;36m10\u001b[0m-\u001b[1;36m31\u001b[0m \u001b[1;92m09:56:51\u001b[0m.\u001b[1;36m215125\u001b[0m vs. safeguard = \u001b[1;36m2024\u001b[0m-\u001b[1;36m10\u001b[0m-\u001b[1;36m29\u001b[0m \u001b[1;92m00:00:00\u001b[0m\n"
      ]
     },
     "metadata": {},
     "output_type": "display_data"
    },
    {
     "data": {
      "text/html": [
       "<pre style=\"white-space:pre;overflow-x:auto;line-height:normal;font-family:Menlo,'DejaVu Sans Mono',consolas,'Courier New',monospace\">\n",
       "                UPDATE qfdmo_acteur\n",
       "                SET\n",
       "                    statut = <span style=\"color: #008000; text-decoration-color: #008000\">'INACTIF'</span>,\n",
       "                    commentaires = <span style=\"color: #008000; text-decoration-color: #008000\">'20241031_acteurs_inactifs_reparation_lvao_ancien_cma'</span>,\n",
       "                    -- Au cas où notre champ timestamp n'est pas mis à jour automatiquement par le schema\n",
       "                    modifie_le = <span style=\"color: #800080; text-decoration-color: #800080; font-weight: bold\">NOW</span><span style=\"font-weight: bold\">()</span>\n",
       "                WHERE identifiant_unique = <span style=\"color: #008000; text-decoration-color: #008000\">'axelle_bijoux_156582_reparation_0689109752'</span>\n",
       "</pre>\n"
      ],
      "text/plain": [
       "\n",
       "                UPDATE qfdmo_acteur\n",
       "                SET\n",
       "                    statut = \u001b[32m'INACTIF'\u001b[0m,\n",
       "                    commentaires = \u001b[32m'20241031_acteurs_inactifs_reparation_lvao_ancien_cma'\u001b[0m,\n",
       "                    -- Au cas où notre champ timestamp n'est pas mis à jour automatiquement par le schema\n",
       "                    modifie_le = \u001b[1;35mNOW\u001b[0m\u001b[1m(\u001b[0m\u001b[1m)\u001b[0m\n",
       "                WHERE identifiant_unique = \u001b[32m'axelle_bijoux_156582_reparation_0689109752'\u001b[0m\n"
      ]
     },
     "metadata": {},
     "output_type": "display_data"
    },
    {
     "data": {
      "text/html": [
       "<pre style=\"white-space:pre;overflow-x:auto;line-height:normal;font-family:Menlo,'DejaVu Sans Mono',consolas,'Courier New',monospace\"></pre>\n"
      ],
      "text/plain": []
     },
     "metadata": {},
     "output_type": "display_data"
    },
    {
     "data": {
      "text/html": [
       "<pre style=\"white-space:pre;overflow-x:auto;line-height:normal;font-family:Menlo,'DejaVu Sans Mono',consolas,'Courier New',monospace\"><span style=\"color: #008080; text-decoration-color: #008080; font-weight: bold\">6264</span> acteurs mis à jour\n",
       "</pre>\n"
      ],
      "text/plain": [
       "\u001b[1;36m6264\u001b[0m acteurs mis à jour\n"
      ]
     },
     "metadata": {},
     "output_type": "display_data"
    }
   ],
   "source": [
    "df_update_db(df, db_test_engine)"
   ]
  },
  {
   "cell_type": "markdown",
   "id": "13900051",
   "metadata": {},
   "source": [
    "## Production"
   ]
  },
  {
   "cell_type": "code",
   "execution_count": 25,
   "id": "19f3f7d2",
   "metadata": {},
   "outputs": [
    {
     "ename": "Exception",
     "evalue": "Sur la point de modifier la base de prod, retirer cette ligne pour continuer",
     "output_type": "error",
     "traceback": [
      "\u001b[0;31m---------------------------------------------------------------------------\u001b[0m",
      "\u001b[0;31mException\u001b[0m                                 Traceback (most recent call last)",
      "Cell \u001b[0;32mIn[25], line 1\u001b[0m\n\u001b[0;32m----> 1\u001b[0m \u001b[38;5;28;01mraise\u001b[39;00m \u001b[38;5;167;01mException\u001b[39;00m(\u001b[38;5;124m\"\u001b[39m\u001b[38;5;124mSur la point de modifier la base de prod, retirer cette ligne pour continuer\u001b[39m\u001b[38;5;124m\"\u001b[39m)\n",
      "\u001b[0;31mException\u001b[0m: Sur la point de modifier la base de prod, retirer cette ligne pour continuer"
     ]
    }
   ],
   "source": [
    "raise Exception(\"Sur la point de modifier la base de prod, retirer cette ligne pour continuer\")"
   ]
  },
  {
   "cell_type": "code",
   "execution_count": null,
   "id": "fe72d881",
   "metadata": {},
   "outputs": [],
   "source": [
    "df_update_db(df, db_prod_engine)"
   ]
  }
 ],
 "metadata": {
  "kernelspec": {
   "display_name": "Python 3 (ipykernel)",
   "language": "python",
   "name": "python3"
  },
  "language_info": {
   "codemirror_mode": {
    "name": "ipython",
    "version": 3
   },
   "file_extension": ".py",
   "mimetype": "text/x-python",
   "name": "python",
   "nbconvert_exporter": "python",
   "pygments_lexer": "ipython3",
   "version": "3.12.3"
  }
 },
 "nbformat": 4,
 "nbformat_minor": 5
}
