{
 "cells": [
  {
   "cell_type": "code",
   "execution_count": 3,
   "id": "a7816c5b-1fcb-421c-9104-0574e51e6b33",
   "metadata": {},
   "outputs": [],
   "source": [
    "import pandas as pd\n",
    "from sqlalchemy import create_engine\n",
    "from dotenv import load_dotenv\n",
    "import os\n",
    "\n",
    "# Load environment variables from .env file\n",
    "load_dotenv()\n",
    "\n",
    "# Accessing environment variables\n",
    "user = os.getenv('DB_USER_PROD')\n",
    "password = os.getenv('DB_PASSWORD_PROD')\n",
    "host = os.getenv('DB_HOST_PROD')\n",
    "port = os.getenv('DB_PORT_PROD')  # Default PostgreSQL port is 5432, but we're using a custom one here\n",
    "db_name = os.getenv('DB_NAME_PROD')\n",
    "\n",
    "# Create the connection URL\n",
    "connection_string = f'postgresql://{user}:{password}@{host}:{port}/{db_name}'\n",
    "\n",
    "# Create the engine\n",
    "engine_prod = create_engine(connection_string)\n"
   ]
  },
  {
   "cell_type": "code",
   "execution_count": 7,
   "id": "1d936d08-3e1f-4a36-befe-961950b6047b",
   "metadata": {},
   "outputs": [
    {
     "name": "stderr",
     "output_type": "stream",
     "text": [
      "/Users/hamzaa/data/quefairedemesobjets/venv/lib/python3.9/site-packages/pandas/io/sql.py:1665: SAWarning: Did not recognize type 'geometry' of column 'location'\n",
      "  self.meta.reflect(bind=self.con, only=[table_name], views=True)\n",
      "/Users/hamzaa/data/quefairedemesobjets/venv/lib/python3.9/site-packages/pandas/io/sql.py:1665: SAWarning: Did not recognize type 'geometry' of column 'location'\n",
      "  self.meta.reflect(bind=self.con, only=[table_name], views=True)\n"
     ]
    }
   ],
   "source": [
    "df_rev = pd.read_sql_table(\"qfdmo_revisionacteur\",engine_prod)\n",
    "df_act = pd.read_sql_table(\"qfdmo_acteur\",engine_prod)"
   ]
  },
  {
   "cell_type": "code",
   "execution_count": 16,
   "id": "bc45daf6-d688-4800-8f94-7626c12d80e5",
   "metadata": {},
   "outputs": [],
   "source": [
    "filtered_df = df_act[~df_act['identifiant_unique'].str.startswith(\"refashion_\") & (df_act['source_id'] == 45)]\n",
    "df_rev_man = pd.merge(filtered_df[['identifiant_unique','identifiant_externe']],df_rev, on = ['identifiant_unique'])\n",
    "df_rev_man.rename(columns={'identifiant_externe_x': 'identifiant_externe'}, inplace=True)\n"
   ]
  },
  {
   "cell_type": "code",
   "execution_count": 17,
   "id": "ed9687a2-87a4-421a-bdbb-1f7c7b22cc40",
   "metadata": {},
   "outputs": [
    {
     "data": {
      "text/plain": [
       "77"
      ]
     },
     "execution_count": 17,
     "metadata": {},
     "output_type": "execute_result"
    }
   ],
   "source": [
    "df_rev_man.to_sql(\"rev_refashion\",engine_prod, if_exists='replace')"
   ]
  },
  {
   "cell_type": "code",
   "execution_count": 18,
   "id": "39280193-0519-4db9-8114-0b3b585d868b",
   "metadata": {},
   "outputs": [
    {
     "data": {
      "text/plain": [
       "930"
      ]
     },
     "execution_count": 18,
     "metadata": {},
     "output_type": "execute_result"
    }
   ],
   "source": [
    "filtered_df.to_sql(\"refashion_actors\",engine_prod, if_exists='replace')"
   ]
  },
  {
   "cell_type": "code",
   "execution_count": null,
   "id": "f0563013-9165-4372-9196-96b1e022db15",
   "metadata": {},
   "outputs": [],
   "source": [
    "import psycopg2\n",
    "from psycopg2 import sql\n",
    "\n",
    "# Connect to the database again\n",
    "conn = psycopg2.connect(\n",
    "    dbname=db_name, \n",
    "    user=user, \n",
    "    password=password, \n",
    "    host=host,\n",
    "    port=port\n",
    ")\n",
    "conn.autocommit = True\n",
    "cursor = conn.cursor()\n",
    "delete_queries = [\n",
    "            \"\"\"\n",
    "            DELETE FROM qfdmo_propositionservice_sous_categories\n",
    "            WHERE propositionservice_id IN (\n",
    "                SELECT id FROM qfdmo_propositionservice\n",
    "                WHERE acteur_id IN (\n",
    "                    SELECT identifiant_unique FROM refashion_actors\n",
    "                )\n",
    "            );\n",
    "            \"\"\",\n",
    "            \"\"\"\n",
    "                 DELETE FROM qfdmo_acteur_labels\n",
    "                  WHERE acteur_id IN (\n",
    "                         SELECT identifiant_unique FROM refashion_actors\n",
    "                      );\n",
    "            \"\"\",\n",
    "            \"\"\"\n",
    "            DELETE FROM qfdmo_propositionservice\n",
    "            WHERE acteur_id IN (\n",
    "                SELECT identifiant_unique FROM refashion_actors\n",
    "            );\n",
    "            \"\"\",\n",
    "            \"\"\"\n",
    "            DELETE FROM qfdmo_acteur WHERE identifiant_unique\n",
    "            in ( select identifiant_unique from refashion_actors);\n",
    "            \"\"\",\n",
    "            \"\"\"\n",
    "            DELETE FROM qfdmo_revisionacteur WHERE identifiant_unique\n",
    "            in ( select identifiant_unique from refashion_actors);\n",
    "            \"\"\"\n",
    "        ]\n",
    "\n",
    "for query in delete_queries:\n",
    "    cursor.execute(query)\n",
    "\n",
    "cursor.close()\n",
    "conn.close()"
   ]
  },
  {
   "cell_type": "markdown",
   "id": "34bca013-87c4-4123-b15c-47608ce440fb",
   "metadata": {},
   "source": [
    "### Validate th dagrun for refashion to trigger but stop create final actors  ---> once it's done proceed below "
   ]
  },
  {
   "cell_type": "code",
   "execution_count": null,
   "id": "2e4a47e6-7480-4646-94a9-dd90c7685131",
   "metadata": {},
   "outputs": [],
   "source": [
    "df_act = pd.read_sql_table(\"qfdmo_acteur\",engine_prod)\n",
    "df_rev = pd.merge(df_act[['identifiant_unique','identifiant_externe']], df_rev_man, on = ['identifiant_externe'])\n",
    "df_rev.rename(columns={'identifiant_unique_x': 'identifiant_unique'}, inplace=True)\n",
    "df_rev_man[\n",
    "            [\n",
    "                \"identifiant_unique\",\n",
    "                \"nom\",\n",
    "                \"adresse\",\n",
    "                \"adresse_complement\",\n",
    "                \"code_postal\",\n",
    "                \"ville\",\n",
    "                \"url\",\n",
    "                \"email\",\n",
    "                \"location\",\n",
    "                \"telephone\",\n",
    "                \"nom_commercial\",\n",
    "                \"nom_officiel\",\n",
    "                \"siret\",\n",
    "                \"identifiant_externe\",\n",
    "                \"acteur_type_id\",\n",
    "                \"statut\",\n",
    "                \"cree_le\",\n",
    "                \"modifie_le\",\n",
    "                \"naf_principal\",\n",
    "                \"commentaires\",\n",
    "                \"horaires_osm\",\n",
    "                \"horaires_description\",\n",
    "                \"description\",\n",
    "            ]\n",
    "        ].to_sql('qfdmo_revisionacteur',engine,            index=False,\n",
    "if_exists=\"append\",method=\"multi\",\n",
    "                chunksize=1000)"
   ]
  },
  {
   "cell_type": "markdown",
   "id": "9e391b5b-f1c2-4c59-a1c1-fb479f00574c",
   "metadata": {},
   "source": [
    "#### run create final actors"
   ]
  },
  {
   "cell_type": "code",
   "execution_count": null,
   "id": "a865b1de-ee64-44c3-99b8-97134f6ca947",
   "metadata": {},
   "outputs": [],
   "source": []
  }
 ],
 "metadata": {
  "kernelspec": {
   "display_name": "Python 3 (ipykernel)",
   "language": "python",
   "name": "python3"
  },
  "language_info": {
   "codemirror_mode": {
    "name": "ipython",
    "version": 3
   },
   "file_extension": ".py",
   "mimetype": "text/x-python",
   "name": "python",
   "nbconvert_exporter": "python",
   "pygments_lexer": "ipython3",
   "version": "3.9.6"
  }
 },
 "nbformat": 4,
 "nbformat_minor": 5
}
