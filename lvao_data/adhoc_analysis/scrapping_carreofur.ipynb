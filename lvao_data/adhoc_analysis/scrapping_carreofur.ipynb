{
 "cells": [
  {
   "cell_type": "code",
   "execution_count": 84,
   "id": "bd4f9896-9742-4185-a38d-dfc0aefb2f76",
   "metadata": {},
   "outputs": [],
   "source": [
    "from bs4 import BeautifulSoup\n",
    "import re\n",
    "\n",
    "with open('louer-un-velo-electrique', 'r', encoding='utf-8') as file:\n",
    "    content = file.read()\n",
    "\n",
    "soup = BeautifulSoup(content, 'html.parser')\n",
    "\n",
    "bike_locations = []\n",
    "\n",
    "# Search for the relevant <p> tags containing the location names, codes, and URLs\n",
    "for p_tag in soup.find_all('p'):\n",
    "    # Find <a> tag within the <p> tag\n",
    "    a_tag = p_tag.find('a')\n",
    "    if a_tag and 'href' in a_tag.attrs:\n",
    "        # Extract the URL\n",
    "        url = a_tag['href']\n",
    "\n",
    "        # Extract the location name\n",
    "        name = a_tag.get_text(strip=True)\n",
    "\n",
    "        # Extract the city code\n",
    "        city_code_match = re.search(r'\\((\\d{2})\\)', p_tag.get_text())\n",
    "        city_code = city_code_match.group(1) if city_code_match else ''\n",
    "\n",
    "        # Add the name, code, and URL to the list\n",
    "        bike_locations.append({'name': name, 'code': city_code, 'url': url})\n"
   ]
  },
  {
   "cell_type": "code",
   "execution_count": null,
   "id": "adf3c5b1-0956-47f4-9eb6-630289549536",
   "metadata": {},
   "outputs": [],
   "source": [
    "gmaps = googlemaps.Client(key='api_key')\n",
    "\n",
    "for location in bike_locations:\n",
    "    try:\n",
    "        # Search for the place\n",
    "        query = f\"{location['name']} Carrefour\"\n",
    "        place_result = gmaps.places(query)\n",
    "\n",
    "        # Assuming the first result is the one you want\n",
    "        place = place_result['results'][0]\n",
    "        address = place['formatted_address']\n",
    "        location['address'] = address\n",
    "        print(f\"{location['name']} Carrefour: {address}\")\n",
    "    except Exception as e:\n",
    "        print(f\"Failed to find address for {location['name']} Carrefour: {e}\")\n"
   ]
  },
  {
   "cell_type": "code",
   "execution_count": 92,
   "id": "e9b5dda6-766f-4c5f-899c-f9c1385b34f8",
   "metadata": {},
   "outputs": [],
   "source": [
    "df = pd.DataFrame(locations)\n"
   ]
  },
  {
   "cell_type": "code",
   "execution_count": 96,
   "id": "7826bdf5-6939-4f96-884a-61280dd6aaf2",
   "metadata": {},
   "outputs": [],
   "source": [
    "df.drop_duplicates().to_csv('points_carrefour_location_velo_electrique.csv')"
   ]
  },
  {
   "cell_type": "code",
   "execution_count": null,
   "id": "673b907a-9728-4cb6-ae8b-19cf7b8688b5",
   "metadata": {},
   "outputs": [],
   "source": [
    " \n",
    "# Step 2: Assign the URL to variable\n",
    "url = \"https://location.carrefour.fr/agence/433-market-meximieux\"\n",
    "\n",
    "import requests\n",
    "\n",
    "headers = {\n",
    "    'authority': 'www.google.com',\n",
    "    'accept': 'text/html,application/xhtml+xml,application/xml;q=0.9,image/avif,image/webp,image/apng,*/*;q=0.8,application/signed-exchange;v=b3;q=0.7',\n",
    "    'accept-language': 'en-US,en;q=0.9',\n",
    "    'cache-control': 'max-age=0',\n",
    "    'cookie': 'SID=ZAjX93QUU1NMI2Ztt_dmL9YRSRW84IvHQwRrSe1lYhIZncwY4QYs0J60X1WvNumDBjmqCA.; __Secure-',\n",
    "    'sec-ch-ua-arch': 'x86',\n",
    "    'sec-ch-ua-bitness': '\"64\"',\n",
    "    'sec-ch-ua-full-version': '\"115.0.5790.110\"',\n",
    "    'sec-ch-ua-full-version-list': '\"Not/A)Brand\";v=\"99.0.0.0\", \"Google Chrome\";v=\"115.0.5790.110\", \"Chromium\";v=\"115.0.5790.110\"',\n",
    "    'sec-ch-ua-mobile': '?0',\n",
    "    'sec-ch-ua-model': '\"\"',\n",
    "    'sec-ch-ua-platform': 'Windows',\n",
    "    'sec-ch-ua-platform-version': '15.0.0',\n",
    "    'sec-ch-ua-wow64': '?0',\n",
    "    'sec-fetch-dest': 'document',\n",
    "    'sec-fetch-mode': 'navigate',\n",
    "    'sec-fetch-site': 'same-origin',\n",
    "    'sec-fetch-user': '?1',\n",
    "    'upgrade-insecure-requests': '1',\n",
    "    'user-agent': 'Mozilla/5.0 (Windows NT 10.0; Win64; x64) AppleWebKit/537.36 (KHTML, like Gecko) Chrome/115.0.0.0 Safari/537.36',\n",
    "    'x-client-data': '#..',\n",
    "}\n",
    "user_agent = 'Mozilla/5.0 (Windows; U; Windows NT 5.1; en-US; rv:1.9.0.7) Gecko/2009021910 Firefox/3.0.7'\n",
    "\n",
    "url = \"https://location.carrefour.fr/agence/433-market-meximieux\"\n",
    "headers={'User-Agent':user_agent,} \n",
    "r = requests.get(url, headers=headers)"
   ]
  },
  {
   "cell_type": "code",
   "execution_count": null,
   "id": "4d7fd2fe-c21b-45b5-b375-31dfa84a07a3",
   "metadata": {},
   "outputs": [],
   "source": []
  },
  {
   "cell_type": "code",
   "execution_count": null,
   "id": "e4ead114-72f0-4c45-bb60-e28fd477f458",
   "metadata": {},
   "outputs": [],
   "source": [
    "r.status_code"
   ]
  },
  {
   "cell_type": "code",
   "execution_count": 104,
   "id": "d30881ab-0437-46d9-bc70-513f6e2ef405",
   "metadata": {},
   "outputs": [
    {
     "name": "stdout",
     "output_type": "stream",
     "text": [
      "403\n"
     ]
    }
   ],
   "source": [
    "from random import seed\n",
    "import requests\n",
    " \n",
    "url = \"https://location.carrefour.fr/agence/433-market-meximieux\"\n",
    "session_obj = requests.Session()\n",
    "request_headers = {\n",
    "    'referer': 'https://scrapeme.live/shop/',\n",
    "    'accept-language': 'en-US,en;q=0.9',\n",
    "    'content-type': 'application/json',\n",
    "    'accept-encoding': 'gzip, deflate, br',\n",
    "    'sec-ch-device-memory': '8',\n",
    "    'sec-ch-ua': '\"Google Chrome\";v=\"119\", \"Chromium\";v=\"119\", \"Not?A_Brand\";v=\"24\"',\n",
    "    'sec-ch-ua-platform': \"Windows\",\n",
    "    'sec-ch-ua-platform-version': '\"10.0.0\"',\n",
    "    'sec-ch-viewport-width': '792',\n",
    "    'user-agent': 'Mozilla/5.0 (Windows NT 10.0; Win64; x64) AppleWebKit/537.36 (KHTML, like Gecko) Chrome/119.0.0.0 Safari/537.36',\n",
    "  }\n",
    "response = session_obj.get(url, headers=request_headers)\n",
    " \n",
    "print(response.status_code)"
   ]
  },
  {
   "cell_type": "code",
   "execution_count": null,
   "id": "3e07534a-1581-47ea-8610-1a894e7fdba7",
   "metadata": {},
   "outputs": [],
   "source": [
    "from bs4 import BeautifulSoup\n",
    "from selenium import webdriver\n",
    " \n",
    "target_website = 'https://location.carrefour.fr/agence/433-market-meximieux'\n",
    " \n",
    "# Instantiate ChromeOptions\n",
    "chrome_options = webdriver.ChromeOptions()\n",
    " \n",
    "# Activate headless mode\n",
    "chrome_options.add_argument('--headless=new')\n",
    " \n",
    "# Instantiate a webdriver instance\n",
    "driver = webdriver.Chrome(options=chrome_options)\n",
    " \n",
    "# Visit the target website with Chrome web driver\n",
    "driver.get(target_website) \n",
    " \n",
    "# Wait for elements to load\n",
    "driver.implicitly_wait(10)\n",
    " \n",
    "# Parse page source to BeautifulSoup for Javascript support\n",
    "soup = BeautifulSoup(driver.page_source, 'html.parser') \n",
    " \n",
    "# Get page title with BeautifulSoup\n",
    "print(soup)"
   ]
  },
  {
   "cell_type": "code",
   "execution_count": 82,
   "id": "e276a4ae-fd56-4423-9a0b-59cafd4080eb",
   "metadata": {},
   "outputs": [
    {
     "name": "stdout",
     "output_type": "stream",
     "text": [
      "Chem. de Virebelle, 13600 La Ciotat, France\n"
     ]
    }
   ],
   "source": [
    "import googlemaps\n",
    "\n",
    "# Initialize with your API key\n",
    "\n",
    "# Search for a place\n",
    "place_result = gmaps.places('Carrefour La Ciotat')\n",
    "\n",
    "# Assuming the first result is the one you want\n",
    "place = place_result['results'][0]\n",
    "\n",
    "# Get the address\n",
    "address = place['formatted_address']\n",
    "print(address)"
   ]
  },
  {
   "cell_type": "code",
   "execution_count": 102,
   "id": "5023d94a-5248-4b53-9a64-9932223fc9ab",
   "metadata": {},
   "outputs": [
    {
     "name": "stdout",
     "output_type": "stream",
     "text": [
      "a grille tarifaire des vélos électriques Address not found\n",
      "a grille tarifaire des vélos électriques Address not found\n",
      "MEXIMIEUX Carrefour Market, Rue Marcel Vion, Grange Bouvier, Meximieux, Belley, Ain, Auvergne-Rhône-Alpes, France métropolitaine, 01800, France\n",
      "MEXIMIEUX Carrefour Market, Rue Marcel Vion, Grange Bouvier, Meximieux, Belley, Ain, Auvergne-Rhône-Alpes, France métropolitaine, 01800, France\n",
      "ST DENIS LES BOURG Carrefour Market, Avenue de Bresse, Les Grandes Cadalles, Saint-Denis-lès-Bourg, Bourg-en-Bresse, Ain, Auvergne-Rhône-Alpes, France métropolitaine, 01000, France\n",
      "ANTIBES Carrefour, Antibes, Grasse, Alpes-Maritimes, Provence-Alpes-Côte d'Azur, France métropolitaine, France\n",
      "NICE LE RAY (06) Carrefour du 28-Août, Boulevard de Cessole, Evêché, Mantega, Nice, Alpes-Maritimes, Provence-Alpes-Côte d'Azur, France métropolitaine, 06100, France\n",
      "NICE LINGOSTIERE Carrefour, 606, Boulevard du Mercantour, Lingostière, Nice, Alpes-Maritimes, Provence-Alpes-Côte d'Azur, France métropolitaine, 06201, France\n",
      "AIX EN PROVENCE Carrefour Station Service, Boulevard de l'Europe, Lotissements Les Allées du Vallat, Trets, Aix-en-Provence, Bouches-du-Rhône, Provence-Alpes-Côte d'Azur, France métropolitaine, 13530, France\n",
      "LA CIOTAT Carrefour, Résidence Clos Notre-Dame, Clos Notre-Dame, La Ciotat, Marseille, Bouches-du-Rhône, Provence-Alpes-Côte d'Azur, France métropolitaine, 13600, France\n",
      "ANGOULINS Carrefour, D 137, Zone d'activité des Fourneaux, Le Puits Doux, Angoulins, La Rochelle, Charente-Maritime, Nouvelle-Aquitaine, France métropolitaine, 17690, France\n",
      "CORPEAU Address not found\n",
      "SARLAT-BRIVE Address not found\n",
      "BENODET Carrefour, Rue Bougainville, Kernevez, Keranguyon, Bénodet, Quimper, Finistère, Bretagne, France métropolitaine, 29950, France\n",
      "BENODET Carrefour, Rue Bougainville, Kernevez, Keranguyon, Bénodet, Quimper, Finistère, Bretagne, France métropolitaine, 29950, France\n",
      "BREST CC Carrefour, Rue Saint-Exupéry, La Trinité, Coat-Edern, Plouzané, Brest, Finistère, Bretagne, France métropolitaine, 29280, France\n",
      "LIBOURNE Carrefour Drive, Drive, Garderose, Le Verdet, Libourne, Gironde, Nouvelle-Aquitaine, France métropolitaine, 33500, France\n",
      "MONTPELLIER-JUSTICE Carrefour Market, Avenue de la Justice de Castelnau, Aiguelongue, Hôpitaux-Facultés, Montpellier, Hérault, Occitanie, France métropolitaine, 34000, France\n",
      "LATTES Carrefour, M 21E6, Pailletrice, Lattes, Montpellier, Hérault, Occitanie, France métropolitaine, 34970, France\n",
      "SASSENAGE Carrefour, Rue de Clémencières, Hameau du Château, Sassenage, Grenoble, Isère, Auvergne-Rhône-Alpes, France métropolitaine, 38360, France\n",
      "LEON Carrefour, 2, Avenida de la Constitución, Compostilla, Ponferrada, El Bierzo, León, Castilla y León, 24404, España\n",
      "BLAINVILLE-SUR-MER Carrefour, Chemin de l'Amour, Les Landelles, Blainville-sur-Mer, Coutances, Manche, Normandie, France métropolitaine, 50560, France\n",
      "LILLE GAMBETTA Address not found\n",
      "LILLE MOSELLE Address not found\n",
      "LA MADELEINE Carrefour, Rue de Plussulien, La Madeleine, Corlay, Saint-Brieuc, Côtes-d'Armor, Bretagne, France métropolitaine, 22320, France\n",
      "BONDUES Carrefour, Allée des Drapiers, Bondues, Lille, Nord, Hauts-de-France, France métropolitaine, 59910, France\n",
      "VANNES Vannes Carrefour, 95, Avenue de la Marne, Zone commerciale de Kerlann, Ouest, Vannes, Morbihan, Bretagne, France métropolitaine, 56000, France\n",
      "BERCK Carrefour, Route Départementale 303, Berck, Montreuil-sur-Mer, Pas-de-Calais, Hauts-de-France, France métropolitaine, 62600, France\n",
      "LE TOUQUET Carrefour, Avenue Georges Besse, Le Touquet-Paris-Plage, Montreuil-sur-Mer, Pas-de-Calais, Hauts-de-France, France métropolitaine, 62520, France\n",
      "LE TOUQUET Carrefour, Avenue Georges Besse, Le Touquet-Paris-Plage, Montreuil-sur-Mer, Pas-de-Calais, Hauts-de-France, France métropolitaine, 62520, France\n",
      "BERCK SOUBITEZ Carrefour, Rue Soubitez, Le Pâtis Orange, Berck, Montreuil-sur-Mer, Pas-de-Calais, Hauts-de-France, France métropolitaine, 62600, France\n",
      "CLERMONT FD JAUDE Address not found\n",
      "SAINT JEAN DE LUZ Carrefour, Avenue de Jalday, Lapurdi, Urthaburu, Saint-Jean-de-Luz, Bayonne, Pyrénées-Atlantiques, Nouvelle-Aquitaine, France métropolitaine, 64500, France\n",
      "PERPIGNAN CLAIRA Carrefour Claira, Chemin de Saint-Pierre, Centre Commercial Cap Roussillon, Claira, Perpignan, Pyrénées-Orientales, Occitanie, France métropolitaine, 66530, France\n",
      "BELLEVILLE Carrefour, Chemin Joly, Belleville, Gometz-la-Ville, Palaiseau, Essonne, Île-de-France, France métropolitaine, 91400, France\n",
      "CONDRIEU Carrefour Drive, Rue Nationale, Rafour, Maladière, Condrieu, Lyon, Rhône, Auvergne-Rhône-Alpes, France métropolitaine, 69420, France\n",
      "ECULLY Carrefour Ecully, Impasse du 1er Mai, Écully, Lyon, Métropole de Lyon, Rhône, Auvergne-Rhône-Alpes, France métropolitaine, 69130, France\n",
      "ANNECY Carrefour Market, Rue du Plot, Longchamp, Groisy, Annecy, Haute-Savoie, Auvergne-Rhône-Alpes, France métropolitaine, 74570, France\n",
      "LE MESNIL ESNARD Carrefour Market, 2, Route de Paris, Square Lully, Le Mesnil-Esnard, Rouen, Seine-Maritime, Normandie, France métropolitaine, 76240, France\n",
      "AVON Carrefour, Avenue Franklin Roosevelt, Bercelle, Avon, Fontainebleau, Seine-et-Marne, Île-de-France, France métropolitaine, 77210, France\n",
      "CROISSY-SUR-SEINE Carrefour de la Patte d'Oie, Croissy-sur-Seine, Saint-Germain-en-Laye, Yvelines, Île-de-France, France métropolitaine, 78290, France\n",
      "RAMBOUILLET Carrefour, N 10, Bel-Air, Rambouillet, Yvelines, Île-de-France, France métropolitaine, 78120, France\n",
      "LA CRAU (83) Carrefour, Avenue du 8 Mai 1945, Les Martins, La Crau, Toulon, Var, Provence-Alpes-Côte d'Azur, France métropolitaine, 83260, France\n",
      "TOULON GRAND VAR Carrefour Grand Var, D 98, La Valette-du-Var, Toulon, Var, Provence-Alpes-Côte d'Azur, France métropolitaine, 83160, France\n",
      "France Vélo Tourisme Address not found\n",
      "France Vélo Tourisme Address not found\n",
      "Carrefour Location Carrefour Location, Autoroute de Normandie, Mondeville, Caen, Calvados, Normandie, France métropolitaine, 14120, France\n",
      "Nos services Address not found\n",
      "Services Carrefour Address not found\n",
      "Aide ONU Centre de coordination de l'aide humanitaire, Avenue Gérard Théodat, Carrefour Clercine, 3e Bellevue, Commune de Tabarre, Port-au-Prince, Département de l'Ouest, 6125, Ayiti\n",
      "ACTUALITÉS Address not found\n"
     ]
    }
   ],
   "source": [
    "def get_address_osm(query):\n",
    "    url = f\"https://nominatim.openstreetmap.org/search?q={query}&format=json\"\n",
    "    response = requests.get(url)\n",
    "    data = response.json()\n",
    "    return data[0][\"display_name\"] if data else \"Address not found\"\n",
    "\n",
    "for location in locations:\n",
    "    name = location['name']\n",
    "    address = get_address_osm(f\"{name} Carrefour\")\n",
    "    print(f\"{name} {address}\")"
   ]
  },
  {
   "cell_type": "code",
   "execution_count": null,
   "id": "5b8b5211-c07a-456d-b930-eac86c63d135",
   "metadata": {},
   "outputs": [],
   "source": []
  }
 ],
 "metadata": {
  "kernelspec": {
   "display_name": "Python 3 (ipykernel)",
   "language": "python",
   "name": "python3"
  },
  "language_info": {
   "codemirror_mode": {
    "name": "ipython",
    "version": 3
   },
   "file_extension": ".py",
   "mimetype": "text/x-python",
   "name": "python",
   "nbconvert_exporter": "python",
   "pygments_lexer": "ipython3",
   "version": "3.9.6"
  }
 },
 "nbformat": 4,
 "nbformat_minor": 5
}
