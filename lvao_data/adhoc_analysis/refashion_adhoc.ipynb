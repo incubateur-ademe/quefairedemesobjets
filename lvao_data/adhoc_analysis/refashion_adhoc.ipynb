{
 "cells": [
  {
   "cell_type": "markdown",
   "id": "a00ac129-f66d-41b7-9605-9ddb6b8b8fca",
   "metadata": {},
   "source": [
    "## Intégrer Refashion depuis l'api pointsapport :\n",
    "\n",
    "- Récupérer les données-eo-refashion depuis l'api pointsapport.\n",
    "- Créer et mapper les données vers les tables Acteurs, Proposition de Services et Sous-catégories.\n",
    "- Enregistrer chaque table dans un fichier CSV."
   ]
  },
  {
   "cell_type": "markdown",
   "id": "fa714639-b9f1-4a6f-8ef6-582956f2223a",
   "metadata": {},
   "source": [
    "#### préprod"
   ]
  },
  {
   "cell_type": "code",
   "execution_count": 150,
   "id": "ae6d5405-0e71-4f1b-9acb-c3ef733c900e",
   "metadata": {},
   "outputs": [],
   "source": [
    "from sqlalchemy import create_engine\n",
    "from dotenv import load_dotenv\n",
    "import os\n",
    "\n",
    "# Load environment variables from .env file\n",
    "load_dotenv()\n",
    "\n",
    "# Accessing environment variables\n",
    "user = os.getenv('DB_USER')\n",
    "password = os.getenv('DB_PASSWORD')\n",
    "host = os.getenv('DB_HOST')\n",
    "port = os.getenv('DB_PORT')  # Default PostgreSQL port is 5432, but we're using a custom one here\n",
    "db_name = os.getenv('DB_NAME')\n",
    "\n",
    "# Create the connection URL\n",
    "connection_string = f'postgresql://{user}:{password}@{host}:{port}/{db_name}'\n",
    "\n",
    "# Create the engine\n",
    "engine = create_engine(connection_string)   \n"
   ]
  },
  {
   "cell_type": "markdown",
   "id": "f75dab43-a1f4-4347-87ee-c35dbe7c4469",
   "metadata": {},
   "source": [
    "#### prod"
   ]
  },
  {
   "cell_type": "code",
   "execution_count": 152,
   "id": "f370e9c3-749d-4c2e-87ca-87fe6e7610e9",
   "metadata": {},
   "outputs": [],
   "source": [
    "from sqlalchemy import create_engine\n",
    "from dotenv import load_dotenv\n",
    "import os\n",
    "\n",
    "# Load environment variables from .env file\n",
    "load_dotenv()\n",
    "\n",
    "# Accessing environment variables\n",
    "user = os.getenv('DB_USER_PROD')\n",
    "password = os.getenv('DB_PASSWORD_PROD')\n",
    "host = os.getenv('DB_HOST_PROD')\n",
    "port = os.getenv('DB_PORT_PROD')  # Default PostgreSQL port is 5432, but we're using a custom one here\n",
    "db_name = os.getenv('DB_NAME_PROD')\n",
    "\n",
    "# Create the connection URL\n",
    "connection_string = f'postgresql://{user}:{password}@{host}:{port}/{db_name}'\n",
    "\n",
    "# Create the engine\n",
    "engine_prod = create_engine(connection_string)\n"
   ]
  },
  {
   "cell_type": "markdown",
   "id": "92d728a8-6324-46ce-b18a-16d371092df4",
   "metadata": {},
   "source": [
    "## Get data from point apport "
   ]
  },
  {
   "cell_type": "code",
   "execution_count": null,
   "id": "e751080b-b54d-4f3c-a97b-0224ddb4d1b4",
   "metadata": {},
   "outputs": [],
   "source": [
    "import requests\n",
    "import pandas as pd\n",
    "\n",
    "\n",
    "def fetch_all_data(url):\n",
    "    all_data = []\n",
    "    while url:\n",
    "        response = requests.get(url)\n",
    "        if response.status_code == 200:\n",
    "            data = response.json()\n",
    "            all_data.extend(data['results'])\n",
    "            # Check if there's a next page link\n",
    "            url = data.get('next', None)\n",
    "            print(url)\n",
    "        else:\n",
    "            print(f\"Failed to fetch data: {response.status_code}\")\n",
    "            break\n",
    "    return all_data\n",
    "\n",
    "api_url = \"https://data.pointsapport.ademe.fr/data-fair/api/v1/datasets/donnees-eo-refashion/lines?size=10000\"\n",
    "\n",
    "data = fetch_all_data(api_url)\n",
    "\n",
    "df = pd.DataFrame(data)\n",
    "\n"
   ]
  },
  {
   "cell_type": "code",
   "execution_count": null,
   "id": "14ddd3e2-c35c-433b-8d90-cf827849988d",
   "metadata": {},
   "outputs": [],
   "source": [
    "df_acteurtype = pd.read_sql_table('qfdmo_acteurtype', engine)\n",
    "df_sources = pd.read_sql_table('qfdmo_source', engine)\n",
    "df_da = pd.read_sql_table('qfdmo_displayedacteur', engine)\n",
    "df_ps = pd.read_sql_table('qfdmo_propositionservice', engine)\n",
    "df_ps['id'].max()\n",
    "df_pssc = pd.read_sql_table('qfdmo_propositionservice_sous_categories', engine)\n",
    "df_action = pd.read_sql_table('qfdmo_action', engine)\n",
    "df_ac = pd.read_sql_table('qfdmo_acteur', engine)\n"
   ]
  },
  {
   "cell_type": "code",
   "execution_count": null,
   "id": "36c97099-1826-44df-bdf4-9259f70c9bca",
   "metadata": {},
   "outputs": [],
   "source": [
    "df_action = pd.read_sql_table('qfdmo_action', engine)\n",
    "engine"
   ]
  },
  {
   "cell_type": "code",
   "execution_count": null,
   "id": "b8ebc8c3-87a0-4dec-905d-5afc2fc85278",
   "metadata": {},
   "outputs": [],
   "source": [
    "df_action"
   ]
  },
  {
   "cell_type": "markdown",
   "id": "5877b711-6b06-4f69-a22d-9746aaae7c8d",
   "metadata": {},
   "source": [
    "### Mappers"
   ]
  },
  {
   "cell_type": "code",
   "execution_count": null,
   "id": "99ba1159-5704-478a-8cac-01fd89a8339f",
   "metadata": {},
   "outputs": [],
   "source": [
    "column_mapping = {\n",
    "    'id_point_apport_ou_reparation': 'identifiant_externe',\n",
    "    'adresse_complement': 'adresse_complement',\n",
    "    'type_de_point_de_collecte': 'acteur_type_id',\n",
    "    'telephone': 'telephone',\n",
    "    'siret': 'siret',\n",
    "    'uniquement_sur_rdv': '',\n",
    "    'exclusivite_de_reprisereparation': '',\n",
    "    'filiere': '',\n",
    "    'public_accueilli': '',\n",
    "    'produitsdechets_acceptes': '',\n",
    "    'labels_etou_bonus': '',\n",
    "    'reprise': '',\n",
    "    'point_de_reparation': '',\n",
    "    'ecoorganisme': 'source_id',\n",
    "    'adresse_format_ban': 'adresse',\n",
    "    'nom_de_lorganisme': 'nom',\n",
    "    'enseigne_commerciale':'nom_commercial',\n",
    "    '_updatedAt':'cree_le',\n",
    "    'site_web': 'url',\n",
    "    'email': 'email',\n",
    "    'perimetre_dintervention': '',\n",
    "    'longitudewgs84': 'location',  \n",
    "    'latitudewgs84': 'location',  \n",
    "    'horaires_douverture': 'horaires',\n",
    "    'consignes_dacces': 'description',\n",
    "}\n",
    "\n",
    "\n",
    "# Print the dictionary for visual confirmation\n",
    "print(column_mapping)"
   ]
  },
  {
   "cell_type": "markdown",
   "id": "efbd6891-e90a-49ae-ae76-ff02a48ffde7",
   "metadata": {},
   "source": [
    "### Transformations"
   ]
  },
  {
   "cell_type": "markdown",
   "id": "1799717a-a4ff-4039-b1eb-7c4669384841",
   "metadata": {},
   "source": [
    "#### Create Actors"
   ]
  },
  {
   "cell_type": "code",
   "execution_count": null,
   "id": "8fba9bda-e2d6-448a-80ee-8386e42f6677",
   "metadata": {},
   "outputs": [],
   "source": [
    "from shapely.geometry import Point\n",
    "from shapely import wkb\n",
    "import re\n",
    "import hashlib\n",
    "\n",
    "\n",
    "selected_columns = ['nom', 'adresse', 'type_de_point_de_collecte', 'id_point_apport_ou_reparation','identifiant_externe']\n",
    "\n",
    "def generate_unique_id(row):\n",
    "    unique_str = '_'.join([str(row[col]) for col in selected_columns])\n",
    "    return hashlib.sha256(unique_str.encode()).hexdigest()\n",
    "def transform_acteur_type_id(value):\n",
    "    mapping_dict = {\n",
    "        \"Solution en ligne (site web, app. mobile)\": \"en ligne (web, mobile)\",\n",
    "        \"Artisan, commerce indépendant\": \"artisan, commerce indépendant\",\n",
    "        \"Magasin / Franchise, Enseigne commerciale / Distributeur / Point de vente\": \"commerce\",\n",
    "        \"Point d'Apport Volontaire Publique\": \"point d'apport volontaire public\",\n",
    "        \"Association, entreprise de l’économie sociale et solidaire (ESS)\": \"Association, entreprise de l'ESS\",\n",
    "        \"Déchèterie\": \"déchèterie\",\n",
    "    }\n",
    "    nom_affiche = mapping_dict.get(value)\n",
    "    id_value = df_acteurtype.loc[df_acteurtype['nom_affiche'] == nom_affiche, 'id'].values[0] if any(df_acteurtype['nom_affiche'] == nom_affiche) else None\n",
    "    return id_value\n",
    "\n",
    "\n",
    "\n",
    "def transform_location(longitude, latitude):\n",
    "    point = Point(longitude, latitude)\n",
    "    \n",
    "    transformed_location_binary = wkb.dumps(point)\n",
    "    transformed_location_hex = transformed_location_binary.hex()\n",
    "\n",
    "    return transformed_location_hex\n",
    "\n",
    "def transform_ecoorganisme(value):\n",
    "    \n",
    "    id_value = df_sources.loc[df_sources['nom'].str.lower() == value.lower(), 'id'].values[0] if any(df_sources['nom'].str.lower() == value.lower()) else None\n",
    "    return id_value\n",
    "\n",
    "def extract_details(row):\n",
    "    pattern = re.compile(r'\\b(\\d{5})\\s+(.*)')\n",
    "    \n",
    "    address = None\n",
    "    postal_code = None\n",
    "    city = None\n",
    "    if pd.isnull(row['adresse_format_ban']):\n",
    "        return pd.Series([None, None, None])\n",
    "\n",
    "    # Ensure adress_ban is treated as a string\n",
    "    adress_ban = str(row['adresse_format_ban'])\n",
    "    \n",
    "    # Search for the pattern\n",
    "    match = pattern.search(adress_ban)\n",
    "    if match:\n",
    "        postal_code = match.group(1)\n",
    "        city = match.group(2)\n",
    "        address = adress_ban[:match.start()].strip()\n",
    "    \n",
    "    return pd.Series([address, postal_code, city])\n",
    "\n",
    "# Apply the function and assign the result to new columns\n",
    "for old_col, new_col in column_mapping.items():\n",
    "    if new_col: \n",
    "        if old_col == 'type_de_point_de_collecte':\n",
    "            df[new_col] = df[old_col].apply(transform_acteur_type_id)\n",
    "        elif old_col in ('longitudewgs84', 'latitudewgs84'):\n",
    "            df['location'] = df.apply(lambda row: transform_location(row['longitudewgs84'], row['latitudewgs84']), axis=1)\n",
    "        elif old_col == 'ecoorganisme':\n",
    "            df[new_col] = df[old_col].apply(transform_ecoorganisme)\n",
    "        elif old_col == 'adresse_format_ban':\n",
    "            df[['adresse', 'code_postal', 'ville']] = df.apply(extract_details, axis=1)\n",
    "        else:\n",
    "            df[new_col] = df[old_col]\n",
    "df['label_reparacteur']=False\n",
    "df['statut']='ACTIF'\n",
    "df['identifiant_unique'] = df.apply(generate_unique_id, axis=1)\n",
    "            \n"
   ]
  },
  {
   "cell_type": "code",
   "execution_count": null,
   "id": "42ec6cd5-9bea-4a30-82bb-4e8176ebb935",
   "metadata": {},
   "outputs": [],
   "source": [
    "df.loc[df['service_a_domicile']=='service à domicile uniquement','statut'] = 'SUPPRIME'"
   ]
  },
  {
   "cell_type": "code",
   "execution_count": null,
   "id": "fdf57e11-358a-4671-81c8-234f5046e5a7",
   "metadata": {},
   "outputs": [],
   "source": [
    "df['modifie_le'] = df['cree_le']\n",
    "df['siret'] = df['siret'].astype(str).apply(lambda x : x[:14])\n",
    "df['telephone'] = df['telephone'].dropna().apply(lambda x: x.replace(' ', ''))\n",
    "df['telephone'] = df['telephone'].dropna().apply(lambda x: '0' + x[2:] if x.startswith('33') else x)"
   ]
  },
  {
   "cell_type": "code",
   "execution_count": null,
   "id": "be500ad1-3b1f-4966-8ad3-4d6a96cca0a2",
   "metadata": {},
   "outputs": [],
   "source": [
    "df.drop_duplicates('identifiant_unique', keep='first', inplace=True)"
   ]
  },
  {
   "cell_type": "markdown",
   "id": "4006cd25-abb6-48d2-b0b0-57a59465c217",
   "metadata": {},
   "source": [
    "#### Create Proposition de services"
   ]
  },
  {
   "cell_type": "code",
   "execution_count": null,
   "id": "c1ffc6bf-b0d7-49fe-a10d-4da1f7d79e64",
   "metadata": {},
   "outputs": [],
   "source": [
    "rows_list = []\n",
    "\n",
    "for index, row in df.iterrows():\n",
    "    acteur_id = row['identifiant_unique']\n",
    "    action_id = None\n",
    "    sous_categories = row['produitsdechets_acceptes']\n",
    "    if row['point_dapport_de_service_reparation']:\n",
    "        acteur_service_id = 17\n",
    "        action_id = 1\n",
    "    elif row['point_dapport_pour_reemploi']:\n",
    "        acteur_service_id = 4\n",
    "        action_id = 4\n",
    "    elif row['point_de_reparation']:\n",
    "        acteur_service_id = 15\n",
    "        action_id = 1\n",
    "    elif row['point_de_collecte_ou_de_reprise_des_dechets']:\n",
    "        acteur_service_id = 4\n",
    "        action_id = 43\n",
    "    else:\n",
    "        continue  # Skip rows that don't match any criteria\n",
    "    \n",
    "    rows_list.append({\"acteur_service_id\": acteur_service_id, \"action_id\": action_id, \"acteur_id\": acteur_id, \"sous_categories\":sous_categories})\n",
    "\n",
    "df_pds = pd.DataFrame(rows_list)\n",
    "df_pds.index = range(df_ps['id'].max()+1, df_ps['id'].max()+1 + len(df_pds))\n",
    "\n",
    "df_pds['id'] = df_pds.index\n"
   ]
  },
  {
   "cell_type": "markdown",
   "id": "21cd6591-c3bf-4e88-b9fa-5624acaeede4",
   "metadata": {},
   "source": [
    "#### Create sous categories"
   ]
  },
  {
   "cell_type": "code",
   "execution_count": null,
   "id": "dd0aa7a8-5a29-4425-bf00-90b24dba3ff3",
   "metadata": {},
   "outputs": [],
   "source": [
    "rows_list=[]\n",
    "sous_categories = { \n",
    "    \"Vêtement\" : 107,\n",
    "    \"Linge\" : 104,\n",
    "    \"Chaussure\":109\n",
    "}\n",
    "for index, row in df_pds.iterrows():\n",
    "    products = str(row[\"sous_categories\"]).split(\"|\")\n",
    "    for product in products:\n",
    "        if product.strip() in sous_categories:\n",
    "            rows_list.append({\n",
    "                'propositionservice_id': row['id'], \n",
    "                'souscategorieobjet_id': sous_categories[product.strip()]\n",
    "            })\n",
    "\n",
    "df_sous_categories = pd.DataFrame(rows_list, columns=['propositionservice_id', 'souscategorieobjet_id'])\n",
    "\n",
    "df_sous_categories"
   ]
  },
  {
   "cell_type": "markdown",
   "id": "23321c55-0d13-466a-8ea0-10a4f87d640e",
   "metadata": {},
   "source": [
    "#### Add to DB"
   ]
  },
  {
   "cell_type": "code",
   "execution_count": null,
   "id": "8e4b3c28-5f10-45f2-b194-8d8fce24a26f",
   "metadata": {},
   "outputs": [],
   "source": [
    "\n",
    "df[[\n",
    "    'identifiant_unique',\n",
    "    'acteur_type_id',\n",
    "'adresse',\n",
    "    'code_postal', 'ville',\n",
    " 'adresse_complement',\n",
    " 'commentaires',\n",
    "    'description',\n",
    " 'email',\n",
    " 'horaires',\n",
    " 'identifiant_externe',\n",
    " 'label_reparacteur',\n",
    " 'nom_commercial',\n",
    " 'nom',\n",
    "    'location',\n",
    "'cree_le',\n",
    "'modifie_le',\n",
    "'multi_base',\n",
    "'manuel',\n",
    "'statut',\n",
    " 'siret',\n",
    " 'source_id',\n",
    " 'telephone',\n",
    " 'url'\n",
    "]].to_sql(\"qfdmo_acteur\",engine, if_exists='append',index=False,method='multi',chunksize=1000)"
   ]
  },
  {
   "cell_type": "code",
   "execution_count": null,
   "id": "b59130e3-4843-45f4-a435-f48afe795b81",
   "metadata": {},
   "outputs": [],
   "source": [
    "df_pds[['acteur_service_id','action_id','acteur_id','id']].to_csv('refashion_propositionservice.csv')\n",
    "df_pds[['id','acteur_service_id','action_id','acteur_id']].to_sql(\"qfdmo_propositionservice\",engine, if_exists='append',index=False,method='multi',chunksize=1000)"
   ]
  },
  {
   "cell_type": "code",
   "execution_count": null,
   "id": "6be62cd5-afbe-4dd8-ab05-00149be0fb23",
   "metadata": {},
   "outputs": [],
   "source": [
    "df_sous_categories[['propositionservice_id','souscategorieobjet_id']].to_csv('refashion_sous_categories.csv')"
   ]
  },
  {
   "cell_type": "code",
   "execution_count": null,
   "id": "8bda7e30-4236-4d36-829b-f60c5682d5f6",
   "metadata": {},
   "outputs": [],
   "source": [
    "df_sous_categories.to_sql(\"qfdmo_propositionservice_sous_categories\",engine, if_exists='append',index=False,method='multi',chunksize=1000)"
   ]
  },
  {
   "cell_type": "code",
   "execution_count": null,
   "id": "e148879d-1c5d-4d44-97fb-75f1170c84fb",
   "metadata": {},
   "outputs": [],
   "source": [
    "delete_query= \"\"\"\n",
    "DELETE FROM qfdmo_propositionservice_sous_categories\n",
    "    USING qfdmo_propositionservice_sous_categories_refashion\n",
    "    WHERE qfdmo_propositionservice_sous_categories.propositionservice_id = qfdmo_propositionservice_sous_categories_refashion.propositionservice_id\n",
    "    AND qfdmo_propositionservice_sous_categories.souscategorieobjet_id = qfdmo_propositionservice_sous_categories_refashion.souscategorieobjet_id;\"\"\""
   ]
  },
  {
   "cell_type": "code",
   "execution_count": null,
   "id": "0daa4b03-4b75-4e17-9ae1-04a01b3d9b84",
   "metadata": {},
   "outputs": [],
   "source": [
    "import psycopg2\n",
    "from psycopg2 import sql\n",
    "from sqlalchemy import create_engine\n",
    "user = \n",
    "password = \n",
    "host = \n",
    "port = '33517'  # default PostgreSQL port is 5432\n",
    "db_name = 'quefairedem_2657'\n",
    "# Access variables in .env\n",
    "conn = psycopg2.connect(\n",
    "    dbname=db_name, \n",
    "    user=user, \n",
    "    password=password, \n",
    "    host=host,\n",
    "    port=port\n",
    ")\n",
    "conn.autocommit = True\n",
    "cursor = conn.cursor()\n",
    "\n",
    "query = sql.SQL(sql_query)\n",
    "cursor.execute(query)\n",
    "\n",
    "cursor.close()\n",
    "conn.close()"
   ]
  },
  {
   "cell_type": "code",
   "execution_count": null,
   "id": "3d8bece0-bb45-494d-a115-5533e5b4fb98",
   "metadata": {},
   "outputs": [],
   "source": []
  },
  {
   "cell_type": "code",
   "execution_count": null,
   "id": "8900582c-e316-46fc-9b3e-26930baeda73",
   "metadata": {},
   "outputs": [],
   "source": [
    "df.loc[df['service_a_domicile']=='service à domicile uniquement',['statut','identifiant_unique']].to_sql(\"qfdmo_acteur_fix_sd\",engined)"
   ]
  },
  {
   "cell_type": "markdown",
   "id": "ffb1a425-7ab2-47bc-b829-ff636e9f8729",
   "metadata": {},
   "source": [
    "## Revision Christian --> revisionacteur"
   ]
  },
  {
   "cell_type": "code",
   "execution_count": null,
   "id": "839957c6-a8d0-4da9-8a91-f0adec021026",
   "metadata": {},
   "outputs": [],
   "source": [
    "df_chris_rev = pd.read_csv(\"refashion_acteurs_chris_28032024.csv\")"
   ]
  },
  {
   "cell_type": "code",
   "execution_count": 136,
   "id": "19a4623f-4118-40c0-95ad-d163012b6021",
   "metadata": {},
   "outputs": [
    {
     "data": {
      "text/plain": [
       "930"
      ]
     },
     "execution_count": 136,
     "metadata": {},
     "output_type": "execute_result"
    }
   ],
   "source": [
    "df_chris_rev[['identifiant_unique',\n",
    "    'acteur_type_id',\n",
    "'adresse',\n",
    "    'code_postal', 'ville',\n",
    " 'adresse_complement',\n",
    " 'commentaires',\n",
    " 'email',\n",
    " 'horaires',\n",
    "              'description',\n",
    " 'identifiant_externe',\n",
    " 'label_reparacteur',\n",
    " 'nom_commercial',\n",
    " 'nom',\n",
    "    'location',\n",
    "'cree_le',\n",
    "'modifie_le',\n",
    "'multi_base',\n",
    "'manuel',\n",
    "'statut',\n",
    " 'siret',\n",
    " 'source_id',\n",
    " 'telephone',\n",
    " 'url']].to_sql(\"qfdmo_revision_acteur_enrich_christian\",engine, if_exists='replace')"
   ]
  },
  {
   "cell_type": "code",
   "execution_count": 140,
   "id": "3e0a7cf1-6c27-4e8c-b8c9-d572347df0d5",
   "metadata": {},
   "outputs": [],
   "source": [
    "import psycopg2\n",
    "from psycopg2 import sql\n",
    "\n",
    "# Connect to the database again\n",
    "conn = psycopg2.connect(\n",
    "    dbname=db_name, \n",
    "    user=user, \n",
    "    password=password, \n",
    "    host=host,\n",
    "    port=port\n",
    ")\n",
    "conn.autocommit = True\n",
    "cursor = conn.cursor()\n",
    "\n",
    "# Perform the update\n",
    "cursor.execute(\"\"\"\n",
    " UPDATE qfdmo_revisionacteur\n",
    "SET \n",
    "    acteur_type_id = NULL,\n",
    "    adresse = NULL,\n",
    "    code_postal = NULL, \n",
    "    ville = NULL,\n",
    "    email = NULL,\n",
    "    horaires = NULL,\n",
    "    identifiant_externe = NULL,\n",
    "    label_reparacteur = qfdmo_revision_acteur_enrich_christian.label_reparacteur,\n",
    "    nom_commercial = NULL,\n",
    "    nom = NULL,\n",
    "    location = NULL,\n",
    "    cree_le = NOW(),\n",
    "    modifie_le = NOW(),\n",
    "    statut = qfdmo_revision_acteur_enrich_christian.statut,\n",
    "    siret = NULL,\n",
    "    source_id = NULL,\n",
    "    telephone = NULL,\n",
    "    description = qfdmo_revision_acteur_enrich_christian.description,\n",
    "    adresse_complement = qfdmo_revision_acteur_enrich_christian.adresse_complement,\n",
    "    url = qfdmo_revision_acteur_enrich_christian.url\n",
    "FROM qfdmo_revision_acteur_enrich_christian\n",
    "WHERE qfdmo_revisionacteur.identifiant_unique = qfdmo_revision_acteur_enrich_christian.identifiant_unique;\n",
    "\n",
    "\"\"\")\n",
    "\n",
    "# Cleanup\n",
    "cursor.close()\n",
    "conn.close()"
   ]
  }
 ],
 "metadata": {
  "kernelspec": {
   "display_name": "Python 3 (ipykernel)",
   "language": "python",
   "name": "python3"
  },
  "language_info": {
   "codemirror_mode": {
    "name": "ipython",
    "version": 3
   },
   "file_extension": ".py",
   "mimetype": "text/x-python",
   "name": "python",
   "nbconvert_exporter": "python",
   "pygments_lexer": "ipython3",
   "version": "3.9.6"
  }
 },
 "nbformat": 4,
 "nbformat_minor": 5
}
