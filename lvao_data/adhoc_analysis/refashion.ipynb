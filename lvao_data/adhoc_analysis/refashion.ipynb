{
 "cells": [
  {
   "cell_type": "markdown",
   "id": "a00ac129-f66d-41b7-9605-9ddb6b8b8fca",
   "metadata": {},
   "source": [
    "## Intégrer Refashion depuis l'api pointsapport :\n",
    "\n",
    "- Récupérer les données-eo-refashion depuis l'api pointsapport.\n",
    "- Créer et mapper les données vers les tables Acteurs, Proposition de Services et Sous-catégories.\n",
    "- Enregistrer chaque table dans un fichier CSV."
   ]
  },
  {
   "cell_type": "code",
   "execution_count": 1,
   "id": "6c197980-4db6-466f-aaab-719ac87fa9a0",
   "metadata": {},
   "outputs": [],
   "source": [
    "from sqlalchemy import create_engine\n",
    "user = \n",
    "password = \n",
    "host =\n",
    "port = '33517'  # default PostgreSQL port is 5432\n",
    "db_name = 'quefairedem_2657'\n",
    "\n",
    "# Create the connection URL\n",
    "connection_string = f'postgresql://{user}:{password}@{host}:{port}/{db_name}'\n",
    "\n",
    "# Create the engine\n",
    "engine = create_engine(connection_string)"
   ]
  },
  {
   "cell_type": "markdown",
   "id": "92d728a8-6324-46ce-b18a-16d371092df4",
   "metadata": {},
   "source": [
    "## Get data from point apport "
   ]
  },
  {
   "cell_type": "code",
   "execution_count": 2,
   "id": "e751080b-b54d-4f3c-a97b-0224ddb4d1b4",
   "metadata": {},
   "outputs": [
    {
     "name": "stderr",
     "output_type": "stream",
     "text": [
      "/Users/hamzaa/data/quefairedemesobjets/venv/lib/python3.9/site-packages/urllib3/__init__.py:34: NotOpenSSLWarning: urllib3 v2.0 only supports OpenSSL 1.1.1+, currently the 'ssl' module is compiled with 'LibreSSL 2.8.3'. See: https://github.com/urllib3/urllib3/issues/3020\n",
      "  warnings.warn(\n"
     ]
    },
    {
     "name": "stdout",
     "output_type": "stream",
     "text": [
      "https://data.pointsapport.ademe.fr/data-fair/api/v1/datasets/zkt20z09p8jl6oix18a5kcte/lines?size=10000&after=1709624636413%2C403043131916\n",
      "https://data.pointsapport.ademe.fr/data-fair/api/v1/datasets/zkt20z09p8jl6oix18a5kcte/lines?size=10000&after=1709624630377%2C403037095926\n",
      "https://data.pointsapport.ademe.fr/data-fair/api/v1/datasets/zkt20z09p8jl6oix18a5kcte/lines?size=10000&after=1709624624501%2C403031219936\n",
      "None\n"
     ]
    }
   ],
   "source": [
    "import requests\n",
    "import pandas as pd\n",
    "\n",
    "\n",
    "def fetch_all_data(url):\n",
    "    all_data = []\n",
    "    while url:\n",
    "        response = requests.get(url)\n",
    "        if response.status_code == 200:\n",
    "            data = response.json()\n",
    "            all_data.extend(data['results'])\n",
    "            # Check if there's a next page link\n",
    "            url = data.get('next', None)\n",
    "            print(url)\n",
    "        else:\n",
    "            print(f\"Failed to fetch data: {response.status_code}\")\n",
    "            break\n",
    "    return all_data\n",
    "\n",
    "api_url = \"https://data.pointsapport.ademe.fr/data-fair/api/v1/datasets/donnees-eo-refashion/lines?size=10000\"\n",
    "\n",
    "data = fetch_all_data(api_url)\n",
    "\n",
    "df = pd.DataFrame(data)\n",
    "\n"
   ]
  },
  {
   "cell_type": "code",
   "execution_count": 3,
   "id": "14ddd3e2-c35c-433b-8d90-cf827849988d",
   "metadata": {},
   "outputs": [
    {
     "name": "stderr",
     "output_type": "stream",
     "text": [
      "/Users/hamzaa/data/quefairedemesobjets/venv/lib/python3.9/site-packages/pandas/io/sql.py:1665: SAWarning: Did not recognize type 'geometry' of column 'location'\n",
      "  self.meta.reflect(bind=self.con, only=[table_name], views=True)\n",
      "/Users/hamzaa/data/quefairedemesobjets/venv/lib/python3.9/site-packages/pandas/io/sql.py:1665: SAWarning: Did not recognize type 'geometry' of column 'location'\n",
      "  self.meta.reflect(bind=self.con, only=[table_name], views=True)\n",
      "/Users/hamzaa/data/quefairedemesobjets/venv/lib/python3.9/site-packages/pandas/io/sql.py:1665: SAWarning: Did not recognize type 'geometry' of column 'location'\n",
      "  self.meta.reflect(bind=self.con, only=[table_name], views=True)\n"
     ]
    }
   ],
   "source": [
    "df_acteurtype = pd.read_sql_table('qfdmo_acteurtype', engine)\n",
    "df_sources = pd.read_sql_table('qfdmo_source', engine)\n",
    "df_da = pd.read_sql_table('qfdmo_displayedacteur', engine)\n",
    "df_ps = pd.read_sql_table('qfdmo_propositionservice', engine)\n",
    "df_ps['id'].max()\n",
    "df_pssc = pd.read_sql_table('qfdmo_propositionservice_sous_categories', engine)\n",
    "df_action = pd.read_sql_table('qfdmo_action', engine)\n",
    "df_ac = pd.read_sql_table('qfdmo_acteur', engine)\n"
   ]
  },
  {
   "cell_type": "code",
   "execution_count": 120,
   "id": "7465c968-4553-44c7-bdc7-dd2dbc8277df",
   "metadata": {},
   "outputs": [
    {
     "name": "stderr",
     "output_type": "stream",
     "text": [
      "/Users/hamzaa/data/quefairedemesobjets/venv/lib/python3.9/site-packages/pandas/io/sql.py:1665: SAWarning: Did not recognize type 'geometry' of column 'location'\n",
      "  self.meta.reflect(bind=self.con, only=[table_name], views=True)\n"
     ]
    }
   ],
   "source": [
    "df_ac = pd.read_sql_table('qfdmo_acteur', engine)\n"
   ]
  },
  {
   "cell_type": "markdown",
   "id": "5877b711-6b06-4f69-a22d-9746aaae7c8d",
   "metadata": {},
   "source": [
    "### Mappers"
   ]
  },
  {
   "cell_type": "code",
   "execution_count": 6,
   "id": "99ba1159-5704-478a-8cac-01fd89a8339f",
   "metadata": {},
   "outputs": [
    {
     "name": "stdout",
     "output_type": "stream",
     "text": [
      "{'id_point_apport_ou_reparation': 'identifiant_externe', 'adresse_complement': 'adresse_complement', 'type_de_point_de_collecte': 'acteur_type_id', 'telephone': 'telephone', 'siret': 'siret', 'uniquement_sur_rdv': '', 'exclusivite_de_reprisereparation': '', 'filiere': '', 'public_accueilli': '', 'produitsdechets_acceptes': '', 'labels_etou_bonus': '', 'reprise': '', 'point_de_reparation': '', 'ecoorganisme': 'source_id', 'adresse_format_ban': 'adresse', 'nom_de_lorganisme': 'nom', 'enseigne_commerciale': 'nom_commercial', '_updatedAt': 'cree_le', 'site_web': 'url', 'email': 'email', 'perimetre_dintervention': '', 'longitudewgs84': 'location', 'latitudewgs84': 'location', 'horaires_douverture': 'horaires', 'consignes_dacces': 'commentaires'}\n"
     ]
    }
   ],
   "source": [
    "column_mapping = {\n",
    "    'id_point_apport_ou_reparation': 'identifiant_externe',\n",
    "    'adresse_complement': 'adresse_complement',\n",
    "    'type_de_point_de_collecte': 'acteur_type_id',\n",
    "    'telephone': 'telephone',\n",
    "    'siret': 'siret',\n",
    "    'uniquement_sur_rdv': '',\n",
    "    'exclusivite_de_reprisereparation': '',\n",
    "    'filiere': '',\n",
    "    'public_accueilli': '',\n",
    "    'produitsdechets_acceptes': '',\n",
    "    'labels_etou_bonus': '',\n",
    "    'reprise': '',\n",
    "    'point_de_reparation': '',\n",
    "    'ecoorganisme': 'source_id',\n",
    "    'adresse_format_ban': 'adresse',\n",
    "    'nom_de_lorganisme': 'nom',\n",
    "    'enseigne_commerciale':'nom_commercial',\n",
    "    '_updatedAt':'cree_le',\n",
    "    'site_web': 'url',\n",
    "    'email': 'email',\n",
    "    'perimetre_dintervention': '',\n",
    "    'longitudewgs84': 'location',  \n",
    "    'latitudewgs84': 'location',  \n",
    "    'horaires_douverture': 'horaires',\n",
    "    'consignes_dacces': 'commentaires',\n",
    "}\n",
    "\n",
    "\n",
    "# Print the dictionary for visual confirmation\n",
    "print(column_mapping)"
   ]
  },
  {
   "cell_type": "markdown",
   "id": "efbd6891-e90a-49ae-ae76-ff02a48ffde7",
   "metadata": {},
   "source": [
    "### Transformations"
   ]
  },
  {
   "cell_type": "markdown",
   "id": "1799717a-a4ff-4039-b1eb-7c4669384841",
   "metadata": {},
   "source": [
    "#### Create Actors"
   ]
  },
  {
   "cell_type": "code",
   "execution_count": 76,
   "id": "8fba9bda-e2d6-448a-80ee-8386e42f6677",
   "metadata": {},
   "outputs": [],
   "source": [
    "from shapely.geometry import Point\n",
    "from shapely import wkb\n",
    "import re\n",
    "import hashlib\n",
    "\n",
    "\n",
    "selected_columns = ['nom', 'adresse', 'code_postal', 'ville']\n",
    "\n",
    "def generate_unique_id(row):\n",
    "    max_length = 14\n",
    "    unique_str = '_'.join([str(row[col]) for col in selected_columns])\n",
    "    return hashlib.sha256(unique_str.encode()).hexdigest()[:max_length]\n",
    "def transform_acteur_type_id(value):\n",
    "    mapping_dict = {\n",
    "        \"Solution en ligne (site web, app. mobile)\": \"en ligne (web, mobile)\",\n",
    "        \"Artisan, commerce indépendant\": \"artisan, commerce indépendant\",\n",
    "        \"Magasin / Franchise, Enseigne commerciale / Distributeur / Point de vente\": \"commerce\",\n",
    "        \"Point d'Apport Volontaire Publique\": \"point d'apport volontaire public\",\n",
    "        \"Association, entreprise de l’économie sociale et solidaire (ESS)\": \"Association, entreprise de l'ESS\",\n",
    "        \"Déchèterie\": \"déchèterie\",\n",
    "    }\n",
    "    nom_affiche = mapping_dict.get(value)\n",
    "    id_value = df_acteurtype.loc[df_acteurtype['nom_affiche'] == nom_affiche, 'id'].values[0] if any(df_acteurtype['nom_affiche'] == nom_affiche) else None\n",
    "    return id_value\n",
    "\n",
    "\n",
    "\n",
    "def transform_location(longitude, latitude):\n",
    "    point = Point(longitude, latitude)\n",
    "    \n",
    "    transformed_location_binary = wkb.dumps(point)\n",
    "    transformed_location_hex = transformed_location_binary.hex()\n",
    "\n",
    "    return transformed_location_hex\n",
    "\n",
    "def transform_ecoorganisme(value):\n",
    "    \n",
    "    id_value = df_sources.loc[df_sources['nom'].str.lower() == value.lower(), 'id'].values[0] if any(df_sources['nom'].str.lower() == value.lower()) else None\n",
    "    return id_value\n",
    "\n",
    "def extract_details(row):\n",
    "    pattern = re.compile(r'\\b(\\d{5})\\s+(.*)')\n",
    "    \n",
    "    address = None\n",
    "    postal_code = None\n",
    "    city = None\n",
    "    if pd.isnull(row['adresse_format_ban']):\n",
    "        return pd.Series([None, None, None])\n",
    "\n",
    "    # Ensure adress_ban is treated as a string\n",
    "    adress_ban = str(row['adresse_format_ban'])\n",
    "    \n",
    "    # Search for the pattern\n",
    "    match = pattern.search(adress_ban)\n",
    "    if match:\n",
    "        postal_code = match.group(1)\n",
    "        city = match.group(2)\n",
    "        address = adress_ban[:match.start()].strip()\n",
    "    \n",
    "    return pd.Series([address, postal_code, city])\n",
    "\n",
    "# Apply the function and assign the result to new columns\n",
    "for old_col, new_col in column_mapping.items():\n",
    "    if new_col: \n",
    "        if old_col == 'type_de_point_de_collecte':\n",
    "            df[new_col] = df[old_col].apply(transform_acteur_type_id)\n",
    "        elif old_col in ('longitudewgs84', 'latitudewgs84'):\n",
    "            df['location'] = df.apply(lambda row: transform_location(row['longitudewgs84'], row['latitudewgs84']), axis=1)\n",
    "        elif old_col == 'ecoorganisme':\n",
    "            df[new_col] = df[old_col].apply(transform_ecoorganisme)\n",
    "        elif old_col == 'adresse_format_ban':\n",
    "            df[['adresse', 'code_postal', 'ville']] = df.apply(extract_details, axis=1)\n",
    "        else:\n",
    "            df[new_col] = df[old_col]\n",
    "df['label_reparacteur']=False\n",
    "df['multi_base']=False\n",
    "\n",
    "\n",
    "df['identifiant_unique'] = df.apply(generate_unique_id, axis=1)\n",
    "            \n"
   ]
  },
  {
   "cell_type": "code",
   "execution_count": 77,
   "id": "fdf57e11-358a-4671-81c8-234f5046e5a7",
   "metadata": {},
   "outputs": [],
   "source": [
    "df['manuel']=False\n",
    "df['statut']='ACTIF'\n",
    "df['modifie_le'] = df['cree_le']\n",
    "df['siret'] = df['siret'].astype(str).apply(lambda x : x[:14])"
   ]
  },
  {
   "cell_type": "markdown",
   "id": "4006cd25-abb6-48d2-b0b0-57a59465c217",
   "metadata": {},
   "source": [
    "#### Create Proposition de services"
   ]
  },
  {
   "cell_type": "code",
   "execution_count": 9,
   "id": "c1ffc6bf-b0d7-49fe-a10d-4da1f7d79e64",
   "metadata": {},
   "outputs": [],
   "source": [
    "rows_list = []\n",
    "\n",
    "for index, row in df.iterrows():\n",
    "    acteur_id = row['identifiant_unique']\n",
    "    action_id = None\n",
    "    sous_categories = row['produitsdechets_acceptes']\n",
    "    if row['point_dapport_de_service_reparation']:\n",
    "        acteur_service_id = 17\n",
    "        action_id = 1\n",
    "    elif row['point_dapport_pour_reemploi']:\n",
    "        acteur_service_id = 4\n",
    "        action_id = 4\n",
    "    elif row['point_de_reparation']:\n",
    "        acteur_service_id = 15\n",
    "        action_id = 1\n",
    "    elif row['point_de_collecte_ou_de_reprise_des_dechets']:\n",
    "        acteur_service_id = 4\n",
    "        action_id = 11\n",
    "    else:\n",
    "        continue  # Skip rows that don't match any criteria\n",
    "    \n",
    "    rows_list.append({\"acteur_service_id\": acteur_service_id, \"action_id\": action_id, \"acteur_id\": acteur_id, \"sous_categories\":sous_categories})\n",
    "\n",
    "df_pds = pd.DataFrame(rows_list)\n",
    "df_pds.index = range(659225, 659225 + len(df_pds))\n",
    "\n",
    "df_pds['id'] = df_pds.index\n"
   ]
  },
  {
   "cell_type": "markdown",
   "id": "21cd6591-c3bf-4e88-b9fa-5624acaeede4",
   "metadata": {},
   "source": [
    "#### Create sous categories"
   ]
  },
  {
   "cell_type": "code",
   "execution_count": 10,
   "id": "dd0aa7a8-5a29-4425-bf00-90b24dba3ff3",
   "metadata": {},
   "outputs": [
    {
     "data": {
      "text/html": [
       "<div>\n",
       "<style scoped>\n",
       "    .dataframe tbody tr th:only-of-type {\n",
       "        vertical-align: middle;\n",
       "    }\n",
       "\n",
       "    .dataframe tbody tr th {\n",
       "        vertical-align: top;\n",
       "    }\n",
       "\n",
       "    .dataframe thead th {\n",
       "        text-align: right;\n",
       "    }\n",
       "</style>\n",
       "<table border=\"1\" class=\"dataframe\">\n",
       "  <thead>\n",
       "    <tr style=\"text-align: right;\">\n",
       "      <th></th>\n",
       "      <th>propositionservice_id</th>\n",
       "      <th>souscategorieobjet_id</th>\n",
       "    </tr>\n",
       "  </thead>\n",
       "  <tbody>\n",
       "    <tr>\n",
       "      <th>0</th>\n",
       "      <td>659225</td>\n",
       "      <td>109</td>\n",
       "    </tr>\n",
       "    <tr>\n",
       "      <th>1</th>\n",
       "      <td>659226</td>\n",
       "      <td>107</td>\n",
       "    </tr>\n",
       "    <tr>\n",
       "      <th>2</th>\n",
       "      <td>659227</td>\n",
       "      <td>107</td>\n",
       "    </tr>\n",
       "    <tr>\n",
       "      <th>3</th>\n",
       "      <td>659228</td>\n",
       "      <td>107</td>\n",
       "    </tr>\n",
       "    <tr>\n",
       "      <th>4</th>\n",
       "      <td>659229</td>\n",
       "      <td>107</td>\n",
       "    </tr>\n",
       "    <tr>\n",
       "      <th>...</th>\n",
       "      <td>...</td>\n",
       "      <td>...</td>\n",
       "    </tr>\n",
       "    <tr>\n",
       "      <th>105997</th>\n",
       "      <td>695164</td>\n",
       "      <td>104</td>\n",
       "    </tr>\n",
       "    <tr>\n",
       "      <th>105998</th>\n",
       "      <td>695164</td>\n",
       "      <td>109</td>\n",
       "    </tr>\n",
       "    <tr>\n",
       "      <th>105999</th>\n",
       "      <td>695165</td>\n",
       "      <td>107</td>\n",
       "    </tr>\n",
       "    <tr>\n",
       "      <th>106000</th>\n",
       "      <td>695165</td>\n",
       "      <td>104</td>\n",
       "    </tr>\n",
       "    <tr>\n",
       "      <th>106001</th>\n",
       "      <td>695165</td>\n",
       "      <td>109</td>\n",
       "    </tr>\n",
       "  </tbody>\n",
       "</table>\n",
       "<p>106002 rows × 2 columns</p>\n",
       "</div>"
      ],
      "text/plain": [
       "        propositionservice_id  souscategorieobjet_id\n",
       "0                      659225                    109\n",
       "1                      659226                    107\n",
       "2                      659227                    107\n",
       "3                      659228                    107\n",
       "4                      659229                    107\n",
       "...                       ...                    ...\n",
       "105997                 695164                    104\n",
       "105998                 695164                    109\n",
       "105999                 695165                    107\n",
       "106000                 695165                    104\n",
       "106001                 695165                    109\n",
       "\n",
       "[106002 rows x 2 columns]"
      ]
     },
     "execution_count": 10,
     "metadata": {},
     "output_type": "execute_result"
    }
   ],
   "source": [
    "rows_list=[]\n",
    "sous_categories = { \n",
    "    \"Vêtement\" : 107,\n",
    "    \"Linge\" : 104,\n",
    "    \"Chaussure\":109\n",
    "}\n",
    "for index, row in df_pds.iterrows():\n",
    "    products = str(row[\"sous_categories\"]).split(\"|\")\n",
    "    for product in products:\n",
    "        if product.strip() in sous_categories:\n",
    "            rows_list.append({\n",
    "                'propositionservice_id': row['id'], \n",
    "                'souscategorieobjet_id': sous_categories[product.strip()]\n",
    "            })\n",
    "\n",
    "df_sous_categories = pd.DataFrame(rows_list, columns=['propositionservice_id', 'souscategorieobjet_id'])\n",
    "\n",
    "df_sous_categories"
   ]
  },
  {
   "cell_type": "code",
   "execution_count": 12,
   "id": "45b53927-3178-4287-a800-16b81c87aa18",
   "metadata": {},
   "outputs": [],
   "source": [
    "df[['identifiant_unique','acteur_type_id',\n",
    "'adresse',\n",
    "    'code_postal', 'ville',\n",
    " 'adresse_complement',\n",
    " 'commentaires',\n",
    " 'email',\n",
    " 'horaires',\n",
    " 'identifiant_externe',\n",
    " 'label_reparacteur',\n",
    " 'location',\n",
    " 'nom_commercial',\n",
    " 'nom',\n",
    " 'siret',\n",
    " 'source_id',\n",
    " 'telephone',\n",
    " 'url']].to_csv('refashion_actors.csv')\n"
   ]
  },
  {
   "cell_type": "code",
   "execution_count": null,
   "id": "8e4b3c28-5f10-45f2-b194-8d8fce24a26f",
   "metadata": {},
   "outputs": [],
   "source": [
    "\n",
    "df[[\n",
    "    'identifiant_unique',\n",
    "    'acteur_type_id',\n",
    "'adresse',\n",
    "    'code_postal', 'ville',\n",
    " 'adresse_complement',\n",
    " 'commentaires',\n",
    " 'email',\n",
    " 'horaires',\n",
    " 'identifiant_externe',\n",
    " 'label_reparacteur',\n",
    " 'nom_commercial',\n",
    " 'nom',\n",
    "'cree_le',\n",
    "'modifie_le',\n",
    "'multi_base',\n",
    "'manuel',\n",
    "'statut',\n",
    " 'siret',\n",
    " 'source_id',\n",
    " 'telephone',\n",
    " 'url'\n",
    "]].to_sql(\"qfdmo_acteur\",engine, if_exists='append',index=False,method='multi',chunksize=1000)"
   ]
  },
  {
   "cell_type": "code",
   "execution_count": null,
   "id": "b59130e3-4843-45f4-a435-f48afe795b81",
   "metadata": {},
   "outputs": [],
   "source": [
    "df_pds[['acteur_service_id','action_id','acteur_id','id']].to_csv('refashion_propositionservice.csv')\n",
    "df_pds[['acteur_service_id','action_id','acteur_id']].to_sql(\"qfdmo_propositionservice\",engine, if_exists='append',index=False,method='multi',chunksize=1000)"
   ]
  },
  {
   "cell_type": "code",
   "execution_count": 93,
   "id": "6be62cd5-afbe-4dd8-ab05-00149be0fb23",
   "metadata": {},
   "outputs": [],
   "source": [
    "df_sous_categories[['propositionservice_id','souscategorieobjet_id']].to_csv('refashion_sous_categories.csv')"
   ]
  },
  {
   "cell_type": "code",
   "execution_count": null,
   "id": "8bda7e30-4236-4d36-829b-f60c5682d5f6",
   "metadata": {},
   "outputs": [],
   "source": []
  }
 ],
 "metadata": {
  "kernelspec": {
   "display_name": "Python 3 (ipykernel)",
   "language": "python",
   "name": "python3"
  },
  "language_info": {
   "codemirror_mode": {
    "name": "ipython",
    "version": 3
   },
   "file_extension": ".py",
   "mimetype": "text/x-python",
   "name": "python",
   "nbconvert_exporter": "python",
   "pygments_lexer": "ipython3",
   "version": "3.9.6"
  }
 },
 "nbformat": 4,
 "nbformat_minor": 5
}
